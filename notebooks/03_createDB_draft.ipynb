{
 "cells": [
  {
   "cell_type": "markdown",
   "metadata": {},
   "source": [
    "# Create MongoDB database"
   ]
  },
  {
   "cell_type": "code",
   "execution_count": 1,
   "metadata": {
    "scrolled": false
   },
   "outputs": [],
   "source": [
    "from pymongo import MongoClient\n",
    "import os\n",
    "import json\n",
    "import re\n",
    "import pandas as pd"
   ]
  },
  {
   "cell_type": "code",
   "execution_count": 2,
   "metadata": {},
   "outputs": [],
   "source": [
    "# Create a client connection to the MongoDb instance running on the local machine\n",
    "client = MongoClient('localhost:27017')"
   ]
  },
  {
   "cell_type": "code",
   "execution_count": 3,
   "metadata": {},
   "outputs": [],
   "source": [
    "# define a database object to insert data into the MongoDb database\n",
    "db = client.Awards"
   ]
  },
  {
   "cell_type": "code",
   "execution_count": 4,
   "metadata": {},
   "outputs": [],
   "source": [
    "one_file_dir = os.path.join(os.pardir,'data', 'interim', '2018.json')\n",
    "with open(one_file_dir) as f:\n",
    "    year = json.load(f)"
   ]
  },
  {
   "cell_type": "code",
   "execution_count": 6,
   "metadata": {},
   "outputs": [
    {
     "data": {
      "text/plain": [
       "(19,\n",
       " {'title': 'Validation of a Performance Based Measure of Functioning in MCI and Early AD ',\n",
       "  'Agency': 'Department of Health and Human Services',\n",
       "  'Branch': 'National Institutes of Health',\n",
       "  'Contract': '4R44AG058345-02',\n",
       "  'Agency Tracking Number': 'R44AG058345',\n",
       "  'Socially and Economically Disadvantaged': 'N',\n",
       "  'Amount': '$946,528.00',\n",
       "  'Phase': 'Phase I',\n",
       "  'Program': 'SBIR',\n",
       "  'Awards Year': '2018',\n",
       "  'Solicitation Year': '2017',\n",
       "  'Solicitation Topic Code': 'NIA',\n",
       "  'Solicitation Number': 'PAS17-064',\n",
       "  'HUBZone Owned': 'N',\n",
       "  'Woman Owned': 'Y',\n",
       "  'company name': 'NEUROCOG TRIALS',\n",
       "  'company address': '1709 LEGION RD STE 221, Chapel Hill, NC, 27517-2374',\n",
       "  'DUNS': '175615165',\n",
       "  'Principal Investigator': {'Name': 'CAREN GADIGIAN',\n",
       "   'Phone': '(919) 401-4642',\n",
       "   'Email': 'alexandra.atkins@neurocogtrials.com'},\n",
       "  'Business Contact': {'Name': 'CAREN GADIGIAN',\n",
       "   'Phone': '(919) 401-4642',\n",
       "   'Email': 'caren.gadigian@neurocogtrials.com'},\n",
       "  'Research Institution': 'N/A',\n",
       "  'Abstract': 'Project Summary\\n Alzheimer s disease  AD  is expected to rise in prevalence from   to    million Americans by      \\nleading to     of deaths among adults over     This epidemic is projected to overwhelm healthcare and\\neconomic resources  with costs reaching $    billion in the US in      and $  trillion by       There is no cure\\nfor AD  and no new drugs have been successful in treating the advanced stages of AD related dementia  A\\ngrowing body of research suggests that early phases of the disease  such as Mild Cognitive Impairment  MCI \\nand mild AD  are more likely to be responsive to disease modifying compounds  Drug development strategies\\nare focused primarily on prevention and early intervention in these high risk  early AD populations  Advances in\\nclinical trials will require psychometrically rigorous measures capable of detecting subtle cognitive and functional\\nchanges indicative of the early disease process  Accurate assessment of functional capacity is especially critical\\nfor determining whether investigational treatments provide meaningful therapeutic benefit to everyday\\nfunctioning  Many tests of functional ability are designed to assess basic activities of daily living  ADLs  such as\\nbathing and eating  However  these skills are typically preserved in MCI and mild AD  In these early phases \\nsubtle but observable deficits are more likely to occur in instrumental ADLs  IADLs  such as shopping and\\ncooking  At present  there are limited options for reliable  sensitive determination of IADL functioning in these\\ncritical populations  The shortcomings of traditional functional assessments used in AD drug trials have been\\nwell established and include biases in caregiver reports  lack of established reliability  and outdated role play\\ntasks  Despite growing scientific consensus regarding the need for improved measurement of functional\\ncapacity  no new assessments have been developed for use in MCI or mild AD  NeuroCog Trials developed the\\nVirtual Reality Functional Capacity Assessment Tool  VRFCAT  as a computerized performance based\\nassessment of functional capacity designed to simulate real world IADLs  Using a realistic virtual environment \\nthe VRFCAT assesses functional performance in the context of a typical trip to the grocery store  Initially\\ndeveloped for use in patients with severe mental illness  the VRFCAT has demonstrated strong psychometric\\nproperties and has been implemented in large scale clinical trials for schizophrenia and major depression  The\\nproposed Fast Track project will create and validate a new version of the VRFCAT specifically for MCI and mild\\nAD  VRFCAT MCI  based on established standards for adapting computerized cognitive tests for new target\\ngroups  Pilot testing will assess the suitability of the existing VRFCAT and identify any needed software\\ncustomizations  In Phase II  we will execute a comprehensive validation study to examine the psychometric\\nproperties of the VRFCAT MCI  broadening the commercial and scientific value of this innovative tool in an effort\\nto accelerate breakthrough treatments to delay  slow  and prevent AD Project Narrative\\nTraditional functional assessments used in Alzheimer s disease  AD  drug trials lack sensitivity to subtle deficits\\nobserved early in the disease  at the stages of mild cognitive impairment  MCI  and mild AD  This poses a\\nproblem when assessing the effectiveness of novel therapeutic treatments for early stage disease  and highlights\\nthe need for improved measures for use in clinical trials  The current project will develop and validate the Virtual\\nReality Functional Capacity Assessment Tool for MCI and Mild AD  VRFCAT MCI   a novel performance based\\nassessment of function with improved sensitivity to functional impairments in MCI and early stage AD'})"
      ]
     },
     "execution_count": 6,
     "metadata": {},
     "output_type": "execute_result"
    }
   ],
   "source": [
    "len(year), year[0]"
   ]
  },
  {
   "cell_type": "markdown",
   "metadata": {},
   "source": [
    "### Convert dollar amount to integer"
   ]
  },
  {
   "cell_type": "code",
   "execution_count": 65,
   "metadata": {},
   "outputs": [],
   "source": [
    "# convert amount to integer\n",
    "for y in year:\n",
    "    amount_str = y.get('Amount', 'N/A')\n",
    "    amount_digit = re.sub('[^\\d.]', '', amount_str)\n",
    "    # check if there are any numbers in amount\n",
    "    if not not amount_digit:\n",
    "        y['Amount'] = float(amount_digit)"
   ]
  },
  {
   "cell_type": "markdown",
   "metadata": {},
   "source": [
    "### Retrieve all awards (documents)"
   ]
  },
  {
   "cell_type": "code",
   "execution_count": 7,
   "metadata": {},
   "outputs": [],
   "source": [
    "# cursor is a generator (loop through it)\n",
    "cursor = db.Awards.find({})"
   ]
  },
  {
   "cell_type": "code",
   "execution_count": 8,
   "metadata": {
    "scrolled": false
   },
   "outputs": [
    {
     "data": {
      "text/plain": [
       "{'_id': ObjectId('5b21be35cbf6d31f2ed0494b'),\n",
       " 'title': 'Validation of a Performance Based Measure of Functioning in MCI and Early AD ',\n",
       " 'Agency': 'Department of Health and Human Services',\n",
       " 'Branch': 'National Institutes of Health',\n",
       " 'Contract': '4R44AG058345-02',\n",
       " 'Agency Tracking Number': 'R44AG058345',\n",
       " 'Socially and Economically Disadvantaged': 'N',\n",
       " 'Amount': '$946,528.00',\n",
       " 'Phase': 'Phase I',\n",
       " 'Program': 'SBIR',\n",
       " 'Awards Year': '2018',\n",
       " 'Solicitation Year': '2017',\n",
       " 'Solicitation Topic Code': 'NIA',\n",
       " 'Solicitation Number': 'PAS17-064',\n",
       " 'HUBZone Owned': 'N',\n",
       " 'Woman Owned': 'Y',\n",
       " 'company name': 'NEUROCOG TRIALS',\n",
       " 'company address': '1709 LEGION RD STE 221, Chapel Hill, NC, 27517-2374',\n",
       " 'DUNS': '175615165',\n",
       " 'Principal Investigator': {'Name': 'CAREN GADIGIAN',\n",
       "  'Phone': '(919) 401-4642',\n",
       "  'Email': 'alexandra.atkins@neurocogtrials.com'},\n",
       " 'Business Contact': {'Name': 'CAREN GADIGIAN',\n",
       "  'Phone': '(919) 401-4642',\n",
       "  'Email': 'caren.gadigian@neurocogtrials.com'},\n",
       " 'Abstract': 'Project Summary\\n Alzheimer s disease  AD  is expected to rise in prevalence from   to    million Americans by      \\nleading to     of deaths among adults over     This epidemic is projected to overwhelm healthcare and\\neconomic resources  with costs reaching $    billion in the US in      and $  trillion by       There is no cure\\nfor AD  and no new drugs have been successful in treating the advanced stages of AD related dementia  A\\ngrowing body of research suggests that early phases of the disease  such as Mild Cognitive Impairment  MCI \\nand mild AD  are more likely to be responsive to disease modifying compounds  Drug development strategies\\nare focused primarily on prevention and early intervention in these high risk  early AD populations  Advances in\\nclinical trials will require psychometrically rigorous measures capable of detecting subtle cognitive and functional\\nchanges indicative of the early disease process  Accurate assessment of functional capacity is especially critical\\nfor determining whether investigational treatments provide meaningful therapeutic benefit to everyday\\nfunctioning  Many tests of functional ability are designed to assess basic activities of daily living  ADLs  such as\\nbathing and eating  However  these skills are typically preserved in MCI and mild AD  In these early phases \\nsubtle but observable deficits are more likely to occur in instrumental ADLs  IADLs  such as shopping and\\ncooking  At present  there are limited options for reliable  sensitive determination of IADL functioning in these\\ncritical populations  The shortcomings of traditional functional assessments used in AD drug trials have been\\nwell established and include biases in caregiver reports  lack of established reliability  and outdated role play\\ntasks  Despite growing scientific consensus regarding the need for improved measurement of functional\\ncapacity  no new assessments have been developed for use in MCI or mild AD  NeuroCog Trials developed the\\nVirtual Reality Functional Capacity Assessment Tool  VRFCAT  as a computerized performance based\\nassessment of functional capacity designed to simulate real world IADLs  Using a realistic virtual environment \\nthe VRFCAT assesses functional performance in the context of a typical trip to the grocery store  Initially\\ndeveloped for use in patients with severe mental illness  the VRFCAT has demonstrated strong psychometric\\nproperties and has been implemented in large scale clinical trials for schizophrenia and major depression  The\\nproposed Fast Track project will create and validate a new version of the VRFCAT specifically for MCI and mild\\nAD  VRFCAT MCI  based on established standards for adapting computerized cognitive tests for new target\\ngroups  Pilot testing will assess the suitability of the existing VRFCAT and identify any needed software\\ncustomizations  In Phase II  we will execute a comprehensive validation study to examine the psychometric\\nproperties of the VRFCAT MCI  broadening the commercial and scientific value of this innovative tool in an effort\\nto accelerate breakthrough treatments to delay  slow  and prevent AD Project Narrative\\nTraditional functional assessments used in Alzheimer s disease  AD  drug trials lack sensitivity to subtle deficits\\nobserved early in the disease  at the stages of mild cognitive impairment  MCI  and mild AD  This poses a\\nproblem when assessing the effectiveness of novel therapeutic treatments for early stage disease  and highlights\\nthe need for improved measures for use in clinical trials  The current project will develop and validate the Virtual\\nReality Functional Capacity Assessment Tool for MCI and Mild AD  VRFCAT MCI   a novel performance based\\nassessment of function with improved sensitivity to functional impairments in MCI and early stage AD'}"
      ]
     },
     "execution_count": 8,
     "metadata": {},
     "output_type": "execute_result"
    }
   ],
   "source": [
    "next(cursor)"
   ]
  },
  {
   "cell_type": "markdown",
   "metadata": {},
   "source": [
    "### Remove fields with the following missing values:\n",
    "- { 'Research Institution': 'N/A' }"
   ]
  },
  {
   "cell_type": "code",
   "execution_count": null,
   "metadata": {},
   "outputs": [],
   "source": [
    "# update by removing 'Research Institution' field where 'Research Institution' is N/A\n",
    "# PS: 'Research Institution' asociated value after unset can be anything (1,0,\"\",...)\n",
    "db.Awards.update_many(\n",
    "   { 'Research Institution': 'N/A' },\\\n",
    "   {'$unset': {'Research Institution':1}}\n",
    "    )"
   ]
  },
  {
   "cell_type": "markdown",
   "metadata": {},
   "source": [
    "### Return only one field without value restrictions"
   ]
  },
  {
   "cell_type": "code",
   "execution_count": 14,
   "metadata": {},
   "outputs": [],
   "source": [
    "cursor_tmp = db.Awards.find({'Solicitation Year' : {'$exists': True}}, \\\n",
    "                            {'Solicitation Year' : 1, '_id': False})      # projection (Only returns those fields)\n",
    "# cursor_tmp = db.Awards.find({'Solicitation Year' : 1})"
   ]
  },
  {
   "cell_type": "code",
   "execution_count": 15,
   "metadata": {},
   "outputs": [
    {
     "data": {
      "text/plain": [
       "[{'Solicitation Year': '2017'},\n",
       " {'Solicitation Year': '2015'},\n",
       " {'Solicitation Year': '2015'},\n",
       " {'Solicitation Year': '2016'},\n",
       " {'Solicitation Year': '2016'},\n",
       " {'Solicitation Year': '2016'},\n",
       " {'Solicitation Year': '2016'},\n",
       " {'Solicitation Year': '2015'},\n",
       " {'Solicitation Year': '2015'},\n",
       " {'Solicitation Year': '2015'},\n",
       " {'Solicitation Year': '2014'},\n",
       " {'Solicitation Year': '2016'},\n",
       " {'Solicitation Year': '2015'},\n",
       " {'Solicitation Year': '2016'},\n",
       " {'Solicitation Year': '2016'},\n",
       " {'Solicitation Year': '2016'},\n",
       " {'Solicitation Year': '2016'},\n",
       " {'Solicitation Year': '2017'},\n",
       " {'Solicitation Year': '2017'}]"
      ]
     },
     "execution_count": 15,
     "metadata": {},
     "output_type": "execute_result"
    }
   ],
   "source": [
    "next(cursor_tmp)"
   ]
  },
  {
   "cell_type": "markdown",
   "metadata": {},
   "source": [
    "### Distinct value of one field over all documents (collection)"
   ]
  },
  {
   "cell_type": "code",
   "execution_count": 34,
   "metadata": {},
   "outputs": [
    {
     "data": {
      "text/plain": [
       "['2017', '2015', '2016', '2014']"
      ]
     },
     "execution_count": 34,
     "metadata": {},
     "output_type": "execute_result"
    }
   ],
   "source": [
    "# Find distinct values for a given field\n",
    "list(db.Awards.distinct('Solicitation Year'))"
   ]
  },
  {
   "cell_type": "code",
   "execution_count": null,
   "metadata": {},
   "outputs": [],
   "source": []
  },
  {
   "cell_type": "code",
   "execution_count": null,
   "metadata": {},
   "outputs": [],
   "source": []
  }
 ],
 "metadata": {
  "kernelspec": {
   "display_name": "Python [conda env:insight]",
   "language": "python",
   "name": "conda-env-insight-py"
  },
  "language_info": {
   "codemirror_mode": {
    "name": "ipython",
    "version": 3
   },
   "file_extension": ".py",
   "mimetype": "text/x-python",
   "name": "python",
   "nbconvert_exporter": "python",
   "pygments_lexer": "ipython3",
   "version": "3.6.5"
  }
 },
 "nbformat": 4,
 "nbformat_minor": 2
}
