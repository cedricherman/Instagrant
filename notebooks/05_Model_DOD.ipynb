{
 "cells": [
  {
   "cell_type": "markdown",
   "metadata": {},
   "source": [
    "# Modeling!!!"
   ]
  },
  {
   "cell_type": "code",
   "execution_count": 1,
   "metadata": {},
   "outputs": [
    {
     "name": "stderr",
     "output_type": "stream",
     "text": [
      "/home/ceddie/anaconda3/envs/insight/lib/python3.6/site-packages/scipy/sparse/sparsetools.py:21: DeprecationWarning: `scipy.sparse.sparsetools` is deprecated!\n",
      "scipy.sparse.sparsetools is a private module for scipy.sparse, and should not be used.\n",
      "  _deprecated()\n"
     ]
    }
   ],
   "source": [
    "from pymongo import MongoClient\n",
    "import os\n",
    "import sys\n",
    "import pandas as pd\n",
    "import numpy as np\n",
    "import importlib\n",
    "\n",
    "# custom module\n",
    "from utils import utilsvectorizer as uv\n",
    "\n",
    "from sklearn.feature_extraction.text import TfidfVectorizer, CountVectorizer\n",
    "from sklearn.decomposition import LatentDirichletAllocation\n",
    "from sklearn.linear_model import Ridge, Lasso\n",
    "from sklearn.model_selection import GridSearchCV, train_test_split\n",
    "from sklearn.pipeline import Pipeline\n",
    "from sklearn.externals import joblib\n",
    "from sklearn.metrics import r2_score\n",
    "from sklearn.ensemble import RandomForestRegressor\n",
    "from sklearn.feature_extraction import stop_words\n",
    "from sklearn.svm import SVR\n",
    "\n",
    "\n",
    "# Plotting tools\n",
    "import pyLDAvis\n",
    "from pyLDAvis.sklearn import prepare\n",
    "from pyLDAvis.gensim import prepare as prepare_gensim\n",
    "\n",
    "# nltk\n",
    "from nltk.stem.wordnet import WordNetLemmatizer\n",
    "\n",
    "# spacy for language processing\n",
    "import spacy\n",
    "\n",
    "# gensim for alternative models\n",
    "from gensim.models import LdaModel, LdaMulticore\n",
    "from gensim.corpora import Dictionary\n",
    "from gensim.matutils import Sparse2Corpus\n",
    "\n",
    "import matplotlib.pyplot as plt"
   ]
  },
  {
   "cell_type": "code",
   "execution_count": 2,
   "metadata": {},
   "outputs": [],
   "source": [
    "# make sure we have the latest version of custom module loaded\n",
    "importlib.reload(uv)\n",
    "\n",
    "# automatically display LDA vis post prepare call\n",
    "pyLDAvis.enable_notebook()\n",
    "\n",
    "% matplotlib inline\n",
    "plt.style.use('ggplot')"
   ]
  },
  {
   "cell_type": "markdown",
   "metadata": {},
   "source": [
    "### Lemmatize stopwords from sklearn\n",
    "In my custom tfidf vectorizer, lemmatization is done before removing stopwords. Therefore, 'has' becomes 'ha' post lemmatization and 'has' is a stopword!"
   ]
  },
  {
   "cell_type": "code",
   "execution_count": 3,
   "metadata": {
    "scrolled": false
   },
   "outputs": [],
   "source": [
    "# sklearn english stopwords\n",
    "sw_sklearn = stop_words.ENGLISH_STOP_WORDS\n",
    "# lemmatization to convert plurals words to singular word\n",
    "Lem = WordNetLemmatizer()\n",
    "# lemmatize those and update our list\n",
    "sw_sklearn = set([Lem.lemmatize(s) for s in sw_sklearn ])\n",
    "# add other common\n",
    "# sw = sw_sklearn.union(names_corp)\n",
    "sw = sw_sklearn"
   ]
  },
  {
   "cell_type": "markdown",
   "metadata": {},
   "source": [
    "### Get Data from MongoDB"
   ]
  },
  {
   "cell_type": "code",
   "execution_count": 4,
   "metadata": {},
   "outputs": [],
   "source": [
    "# Create a client connection to the MongoDb instance running on the local machine\n",
    "client = MongoClient('localhost:27017')"
   ]
  },
  {
   "cell_type": "code",
   "execution_count": 5,
   "metadata": {},
   "outputs": [],
   "source": [
    "# connect to database of interest\n",
    "db = client.awards_tmp"
   ]
  },
  {
   "cell_type": "code",
   "execution_count": 6,
   "metadata": {},
   "outputs": [],
   "source": [
    "# cursor_tmp is a generator\n",
    "cursor_tmp = db.awards_tmp.find({}, {'Amount' : 1,\n",
    "                                     'amount_corrected' : 1,\n",
    "                                     'Agency' : 1,\n",
    "                                     'Branch' : 1,\n",
    "                                     'Abstract' : 1,\n",
    "                                     'company name' : 1,\n",
    "                                     'DUNS' : 1,\n",
    "                                     'title' : 1,\n",
    "                                     'Awards Year' : 1,\n",
    "                                     'Phase':1,\n",
    "                                     'Contract': 1,\n",
    "                                     '_id': False} )\n",
    "# need a new cursor (generator) after you used it\n",
    "df = pd.DataFrame(list(cursor_tmp))"
   ]
  },
  {
   "cell_type": "code",
   "execution_count": 7,
   "metadata": {},
   "outputs": [],
   "source": [
    "# convert Awards year to datetime object\n",
    "df['Awards Year'] = pd.to_datetime(df['Awards Year'])"
   ]
  },
  {
   "cell_type": "code",
   "execution_count": 8,
   "metadata": {},
   "outputs": [
    {
     "name": "stdout",
     "output_type": "stream",
     "text": [
      "<class 'pandas.core.frame.DataFrame'>\n",
      "RangeIndex: 167412 entries, 0 to 167411\n",
      "Data columns (total 11 columns):\n",
      "Abstract            167412 non-null object\n",
      "Agency              167405 non-null object\n",
      "Amount              167412 non-null float64\n",
      "Awards Year         167412 non-null datetime64[ns]\n",
      "Branch              82443 non-null object\n",
      "Contract            167412 non-null object\n",
      "DUNS                167412 non-null object\n",
      "Phase               167412 non-null object\n",
      "amount_corrected    167412 non-null float64\n",
      "company name        167412 non-null object\n",
      "title               167412 non-null object\n",
      "dtypes: datetime64[ns](1), float64(2), object(8)\n",
      "memory usage: 14.0+ MB\n"
     ]
    }
   ],
   "source": [
    "df.info()"
   ]
  },
  {
   "cell_type": "code",
   "execution_count": 9,
   "metadata": {},
   "outputs": [],
   "source": [
    "# df.head()"
   ]
  },
  {
   "cell_type": "code",
   "execution_count": 10,
   "metadata": {},
   "outputs": [],
   "source": [
    "# mark 'N/A' abstract by nan\n",
    "df.loc[df.Abstract == 'N/A', 'Abstract'] = np.nan"
   ]
  },
  {
   "cell_type": "code",
   "execution_count": 11,
   "metadata": {},
   "outputs": [],
   "source": [
    "# concatenate abstract and title\n",
    "df['text'] = df.Abstract.add(df.title, fill_value = '')"
   ]
  },
  {
   "cell_type": "markdown",
   "metadata": {},
   "source": [
    "### Add agency abbreviation"
   ]
  },
  {
   "cell_type": "code",
   "execution_count": 12,
   "metadata": {},
   "outputs": [],
   "source": [
    "agency_name = {'usda' : 'Department of Agriculture',\n",
    "                'doc' : 'Department of Commerce',\n",
    "                'dod' : 'Department of Defense',\n",
    "                'ed' : 'Department of Education',\n",
    "                'doe' : 'Department of Energy',\n",
    "                'hhs' : 'Department of Health and Human Services',\n",
    "                'dhs' : 'Department of Homeland Security',\n",
    "                'dot' : 'Department of Transportation',\n",
    "                'epa' : 'Environmental Protection Agency',\n",
    "                'nasa' : 'National Aeronautics and Space Administration',\n",
    "                'nsf' : 'National Science Foundation'}"
   ]
  },
  {
   "cell_type": "code",
   "execution_count": 13,
   "metadata": {},
   "outputs": [],
   "source": [
    "agency_map = {v: k for k, v in agency_name.items()}"
   ]
  },
  {
   "cell_type": "code",
   "execution_count": 14,
   "metadata": {},
   "outputs": [],
   "source": [
    "df['agency_abbr'] = df.Agency.map(agency_map)"
   ]
  },
  {
   "cell_type": "code",
   "execution_count": 15,
   "metadata": {},
   "outputs": [],
   "source": [
    "agency = df.agency_abbr.value_counts().index"
   ]
  },
  {
   "cell_type": "code",
   "execution_count": 16,
   "metadata": {},
   "outputs": [
    {
     "data": {
      "text/plain": [
       "(11,\n",
       " Index(['dod', 'hhs', 'nasa', 'nsf', 'doe', 'usda', 'epa', 'doc', 'ed', 'dot',\n",
       "        'dhs'],\n",
       "       dtype='object'))"
      ]
     },
     "execution_count": 16,
     "metadata": {},
     "output_type": "execute_result"
    }
   ],
   "source": [
    "len(agency), agency"
   ]
  },
  {
   "cell_type": "code",
   "execution_count": 17,
   "metadata": {},
   "outputs": [],
   "source": [
    "# agency = ['dot', 'dhs']"
   ]
  },
  {
   "cell_type": "markdown",
   "metadata": {},
   "source": [
    "## Choose one Agency"
   ]
  },
  {
   "cell_type": "code",
   "execution_count": 18,
   "metadata": {},
   "outputs": [
    {
     "name": "stdout",
     "output_type": "stream",
     "text": [
      "Modeling dod\n"
     ]
    }
   ],
   "source": [
    "ag = 'dod'\n",
    "print('Modeling {}'.format(ag))\n",
    "# discard 0 amount, N/A abstract. Agency shall not be missing and only consider Phase I\n",
    "crit = (df.agency_abbr == ag) & (df.Phase == 'Phase I') & \\\n",
    "        (df.amount_corrected > 0) & (df['Awards Year'] >= '1983') & \\\n",
    "        (df.Abstract.notnull())\n",
    "df_analysis = df.loc[crit,:].copy()"
   ]
  },
  {
   "cell_type": "markdown",
   "metadata": {},
   "source": [
    "### Do modeling"
   ]
  },
  {
   "cell_type": "code",
   "execution_count": 19,
   "metadata": {},
   "outputs": [],
   "source": [
    "# split documents in train/test, labels are optional here. It turns out we know them.\n",
    "train_docs, test_docs, y_train_docs, y_test_docs = train_test_split( df_analysis,\n",
    "                                    df_analysis.amount_corrected,\n",
    "                                    test_size = 0.2,\n",
    "                                    random_state = 7,\n",
    "                                    stratify = df_analysis['Awards Year'])"
   ]
  },
  {
   "cell_type": "code",
   "execution_count": 20,
   "metadata": {},
   "outputs": [
    {
     "name": "stdout",
     "output_type": "stream",
     "text": [
      "(36404,) (9102,)\n"
     ]
    }
   ],
   "source": [
    "# retrieve train values\n",
    "X_train = train_docs.Abstract.values\n",
    "y_train = y_train_docs.values\n",
    "\n",
    "# retrieve test values\n",
    "X_test = test_docs.text.values\n",
    "y_test = y_test_docs.values\n",
    "\n",
    "print(X_train.shape, X_test.shape)"
   ]
  },
  {
   "cell_type": "code",
   "execution_count": 26,
   "metadata": {},
   "outputs": [],
   "source": [
    "reg = Pipeline([('tfidf', uv.CustomTfidfVectorizer(\n",
    "                            stop_words = sw,\n",
    "                            lowercase = True,\n",
    "#                             strip_accents = 'unicode',\n",
    "#                             token_pattern = r'(?u)\\b[a-zA-Z][a-zA-Z]+\\b',\n",
    "#                             max_features = 2000\n",
    "                       )),\n",
    "                      ('reg', RandomForestRegressor()),\n",
    "                     ])\n",
    "\n",
    "parameters = {'tfidf__ngram_range': [(1, 2)],\n",
    "#               'tfidf__min_df': [2],\n",
    "              'tfidf__max_features': [4000],\n",
    "#               'tfidf__max_df': [0.6],\n",
    "#               'tfidf__use_idf': [True],\n",
    "#               'tfidf__binary': [True],\n",
    "              'reg__max_features': [ 500],\n",
    "              'reg__n_estimators': [ 100 ],\n",
    "#               'reg__min_samples_split': [2]\n",
    "#               'reg__max_depth': [500, 600 ]\n",
    "             }\n",
    "\n",
    "#  [{'max_depth': depth_arr, 'min_samples_leaf': min_leaf_arr, 'n_estimators': est_arr}]\n",
    "\n",
    "# set up grid search using all of my cores\n",
    "# I believe R^2 is the default scorer for Lasso\n",
    "gs_reg = GridSearchCV(reg, param_grid = parameters,\\\n",
    "                      scoring='neg_mean_squared_error',\\\n",
    "                      cv = 3 , n_jobs= -1, verbose=1)"
   ]
  },
  {
   "cell_type": "code",
   "execution_count": 26,
   "metadata": {},
   "outputs": [],
   "source": [
    "reg = Pipeline([('tfidf', uv.CustomTfidfVectorizer(\n",
    "                            stop_words = sw,\n",
    "                            lowercase = True,\n",
    "#                             strip_accents = 'unicode',\n",
    "#                             token_pattern = r'(?u)\\b[a-zA-Z][a-zA-Z]+\\b',\n",
    "#                             max_features = 2000\n",
    "                       )),\n",
    "                      ('reg', SVR(cache_size=1000)),\n",
    "                     ])\n",
    "\n",
    "parameters = {'tfidf__ngram_range': [(1, 2)],\n",
    "              'tfidf__min_df': [2],\n",
    "              'tfidf__max_features': [3000],\n",
    "#               'tfidf__max_df': [0.6],\n",
    "#               'tfidf__use_idf': [True],\n",
    "#               'tfidf__binary': [True],\n",
    "#               'reg__max_features': [ 3000],\n",
    "#               'reg__n_estimators': [ 100 ],\n",
    "#               'reg__min_samples_split': [2]\n",
    "#               'reg__max_depth': [500, 600 ]\n",
    "             }\n",
    "\n",
    "#  [{'max_depth': depth_arr, 'min_samples_leaf': min_leaf_arr, 'n_estimators': est_arr}]\n",
    "\n",
    "# set up grid search using all of my cores\n",
    "# I believe R^2 is the default scorer for Lasso\n",
    "gs_reg = GridSearchCV(reg, param_grid = parameters,\\\n",
    "                      scoring='neg_mean_squared_error',\\\n",
    "                      cv = 3 , n_jobs= -1, verbose=1)"
   ]
  },
  {
   "cell_type": "code",
   "execution_count": 27,
   "metadata": {
    "scrolled": true
   },
   "outputs": [
    {
     "name": "stdout",
     "output_type": "stream",
     "text": [
      "Fitting 3 folds for each of 1 candidates, totalling 3 fits\n"
     ]
    },
    {
     "name": "stderr",
     "output_type": "stream",
     "text": [
      "[Parallel(n_jobs=-1)]: Done   3 out of   3 | elapsed: 12.0min finished\n"
     ]
    }
   ],
   "source": [
    "# perform grid search CV on pipeline\n",
    "_ = gs_reg.fit(X_train, y_train)"
   ]
  },
  {
   "cell_type": "code",
   "execution_count": 28,
   "metadata": {},
   "outputs": [
    {
     "name": "stdout",
     "output_type": "stream",
     "text": [
      "{'reg__max_features': 500, 'reg__n_estimators': 100, 'tfidf__max_features': 4000, 'tfidf__ngram_range': (1, 2)}\n"
     ]
    }
   ],
   "source": [
    "print(gs_reg.best_params_)\n",
    "\n",
    "# # training set score\n",
    "# print('Train score = ', gs_reg.score(X_train, y_train))\n",
    "# # test set score\n",
    "# print('Test score = ', gs_reg.score(X_test, y_test))"
   ]
  },
  {
   "cell_type": "code",
   "execution_count": 29,
   "metadata": {},
   "outputs": [
    {
     "name": "stdout",
     "output_type": "stream",
     "text": [
      "Train score =  0.8728255548920698\n"
     ]
    }
   ],
   "source": [
    "# training set score\n",
    "y_train_pred = gs_reg.predict(X_train)\n",
    "r2_train = r2_score(y_train, y_train_pred)\n",
    "print('Train score = ', r2_train)"
   ]
  },
  {
   "cell_type": "code",
   "execution_count": 30,
   "metadata": {},
   "outputs": [
    {
     "name": "stdout",
     "output_type": "stream",
     "text": [
      "Test score =  0.10057410429819302\n"
     ]
    }
   ],
   "source": [
    "# test set score\n",
    "y_test_pred = gs_reg.predict(X_test)\n",
    "r2_test = r2_score(y_test, y_test_pred)\n",
    "print('Test score = ', r2_test)"
   ]
  },
  {
   "cell_type": "code",
   "execution_count": 54,
   "metadata": {},
   "outputs": [],
   "source": [
    "# [estimator.tree_.max_depth for estimator in gs_reg.best_estimator_.get_params()['reg'] ]"
   ]
  },
  {
   "cell_type": "code",
   "execution_count": null,
   "metadata": {},
   "outputs": [],
   "source": []
  },
  {
   "cell_type": "code",
   "execution_count": null,
   "metadata": {},
   "outputs": [],
   "source": []
  },
  {
   "cell_type": "code",
   "execution_count": null,
   "metadata": {},
   "outputs": [],
   "source": [
    "# pickle model\n",
    "joblib.dump(gs_reg, os.path.join(os.pardir,'models', ''.join([ag, '_rf_phase1.pkl']) ) )\n",
    "# joblib.dump(gs_reg, os.path.join(os.pardir,'models', 'RF_reg_phase1.pkl' ) )"
   ]
  },
  {
   "cell_type": "code",
   "execution_count": 7,
   "metadata": {},
   "outputs": [],
   "source": [
    "# reload model\n",
    "# ag = 'dod'\n",
    "gs_reg = joblib.load(os.path.join(os.pardir,'models', ''.join([ag, '_rf_phase1.pkl']) ) )"
   ]
  },
  {
   "cell_type": "code",
   "execution_count": null,
   "metadata": {},
   "outputs": [],
   "source": []
  },
  {
   "cell_type": "code",
   "execution_count": null,
   "metadata": {},
   "outputs": [],
   "source": []
  },
  {
   "cell_type": "code",
   "execution_count": null,
   "metadata": {},
   "outputs": [],
   "source": []
  },
  {
   "cell_type": "markdown",
   "metadata": {},
   "source": [
    "### Feature importance"
   ]
  },
  {
   "cell_type": "markdown",
   "metadata": {},
   "source": [
    "#### lasso coefficients"
   ]
  },
  {
   "cell_type": "code",
   "execution_count": null,
   "metadata": {},
   "outputs": [],
   "source": [
    "# sort coef by descending order\n",
    "lasso_coef = gs_reg.best_estimator_.get_params()['reg'].coef_\n",
    "ind = np.argsort(lasso_coef)[::-1]\n",
    "\n",
    "w_features = np.array(gs_reg.best_estimator_.get_params()['tfidf'].get_feature_names())\n",
    "# look at most and least influencial features\n",
    "for gw, bw, pg, pb in zip(w_features[ind[:10]], w_features[ind[-10:]], \\\n",
    "                          lasso_coef[ind[:10]], lasso_coef[ind[-10:]]):\n",
    "    print( '{:>30}'.format(gw), '{:.2f}'.format(pg), '{:>30}'.format(bw), '{:.2f}'.format(pb))"
   ]
  },
  {
   "cell_type": "markdown",
   "metadata": {},
   "source": [
    "#### random forest"
   ]
  },
  {
   "cell_type": "code",
   "execution_count": 33,
   "metadata": {},
   "outputs": [
    {
     "data": {
      "text/plain": [
       "5.44"
      ]
     },
     "execution_count": 33,
     "metadata": {},
     "output_type": "execute_result"
    }
   ],
   "source": [
    "4.25*128/100"
   ]
  },
  {
   "cell_type": "code",
   "execution_count": 34,
   "metadata": {},
   "outputs": [
    {
     "data": {
      "text/plain": [
       "5.265"
      ]
     },
     "execution_count": 34,
     "metadata": {},
     "output_type": "execute_result"
    }
   ],
   "source": [
    "4.5*117/100"
   ]
  },
  {
   "cell_type": "code",
   "execution_count": 35,
   "metadata": {},
   "outputs": [
    {
     "name": "stdout",
     "output_type": "stream",
     "text": [
      "                      abstract 0.0484                 new capability 0.0000\n",
      "                       benefit 0.0104                             pt 0.0000\n",
      "                          navy 0.0097                         jitter 0.0000\n",
      "                        simply 0.0050                      beryllium 0.0000\n",
      "                    technology 0.0049                      malicious 0.0000\n",
      "                     air force 0.0047           specific application 0.0000\n",
      "                      research 0.0044                           mimo 0.0000\n",
      "                       treated 0.0040                    metal oxide 0.0000\n",
      "                          ship 0.0039                        seismic 0.0000\n",
      "                       project 0.0035                             sl 0.0000\n",
      "                       remains 0.0033                     cryocooler 0.0000\n",
      "                         phase 0.0033                          modem 0.0000\n",
      "                       develop 0.0033                        culture 0.0000\n",
      "                         based 0.0033           manufacturing method 0.0000\n",
      "                          high 0.0032                           fpas 0.0000\n",
      "                      proposed 0.0032                            ssa 0.0000\n",
      "                          hour 0.0032                interconnection 0.0000\n",
      "                      internet 0.0031                          floor 0.0000\n",
      "                         going 0.0031                       absorber 0.0000\n",
      "                        design 0.0029                            mmw 0.0000\n",
      "                      proposes 0.0028                           tire 0.0000\n",
      "                         using 0.0028                            aln 0.0000\n",
      "                           low 0.0028                  rocket engine 0.0000\n",
      "                           co2 0.0027                          algan 0.0000\n",
      "                      reusable 0.0027                   kill vehicle 0.0000\n",
      "                       initial 0.0027                         enzyme 0.0000\n",
      "                           use 0.0027                         cancer 0.0000\n",
      "                   application 0.0026                            rad 0.0000\n",
      "                          used 0.0026                    ionospheric 0.0000\n",
      "                       provide 0.0026                      heat pipe 0.0000\n"
     ]
    }
   ],
   "source": [
    "# sort coef by descending order\n",
    "lasso_coef = gs_reg.best_estimator_.get_params()['reg'].feature_importances_\n",
    "ind = np.argsort(lasso_coef)[::-1]\n",
    "\n",
    "top = 30\n",
    "\n",
    "w_features = np.array(gs_reg.best_estimator_.get_params()['tfidf'].get_feature_names())\n",
    "# look at most and least influencial features\n",
    "for gw, bw, pg, pb in zip(w_features[ind[:top]], w_features[ind[-top:]], \\\n",
    "                          lasso_coef[ind[:top]], lasso_coef[ind[-top:]]):\n",
    "    print( '{:>30}'.format(gw), '{:.4f}'.format(pg), '{:>30}'.format(bw), '{:.4f}'.format(pb))"
   ]
  },
  {
   "cell_type": "code",
   "execution_count": null,
   "metadata": {},
   "outputs": [],
   "source": []
  },
  {
   "cell_type": "code",
   "execution_count": null,
   "metadata": {},
   "outputs": [],
   "source": []
  },
  {
   "cell_type": "code",
   "execution_count": null,
   "metadata": {},
   "outputs": [],
   "source": []
  },
  {
   "cell_type": "markdown",
   "metadata": {},
   "source": [
    "## Standard method to estimate grant price"
   ]
  },
  {
   "cell_type": "markdown",
   "metadata": {},
   "source": [
    "#### Comparison to min USD per year"
   ]
  },
  {
   "cell_type": "code",
   "execution_count": null,
   "metadata": {},
   "outputs": [],
   "source": [
    "# get max USD for each year\n",
    "s_min_test = df_analysis.groupby('Awards Year', sort=False).amount_corrected.nsmallest(1)\n",
    "# indexes have two level: year and row index. Remove row index\n",
    "s_min_test = s_min_test.reset_index(level = 1, drop=True)"
   ]
  },
  {
   "cell_type": "code",
   "execution_count": null,
   "metadata": {},
   "outputs": [],
   "source": [
    "# assign max amount for each award as predicted value\n",
    "min_pred = df_analysis['Awards Year'].map(s_min_test)\n",
    "\n",
    "# each record/award has a prediction which is the maximum amount"
   ]
  },
  {
   "cell_type": "code",
   "execution_count": null,
   "metadata": {},
   "outputs": [],
   "source": [
    "# retrieve only test set award\n",
    "y_min_pred = min_pred[test_docs.index].values"
   ]
  },
  {
   "cell_type": "code",
   "execution_count": null,
   "metadata": {},
   "outputs": [],
   "source": [
    "r2_score(y_test, y_min_pred)"
   ]
  },
  {
   "cell_type": "markdown",
   "metadata": {},
   "source": [
    "#### Comparison to max USD per year"
   ]
  },
  {
   "cell_type": "code",
   "execution_count": null,
   "metadata": {},
   "outputs": [],
   "source": [
    "# get max USD for each year\n",
    "s_max_test = df_analysis.groupby('Awards Year', sort=False).amount_corrected.nlargest(1)\n",
    "# indexes have two level: year and row index. Remove row index\n",
    "s_max_test = s_max_test.reset_index(level = 1, drop=True)"
   ]
  },
  {
   "cell_type": "code",
   "execution_count": null,
   "metadata": {},
   "outputs": [],
   "source": [
    "# assign max amount for each award as predicted value\n",
    "max_pred = df_analysis['Awards Year'].map(s_max_test)\n",
    "\n",
    "# each record/award has a prediction which is the maximum amount"
   ]
  },
  {
   "cell_type": "code",
   "execution_count": null,
   "metadata": {},
   "outputs": [],
   "source": [
    "# retrieve only test set award\n",
    "y_max_pred = max_pred[test_docs.index].values"
   ]
  },
  {
   "cell_type": "code",
   "execution_count": null,
   "metadata": {},
   "outputs": [],
   "source": [
    "r2_score(y_test, y_max_pred)"
   ]
  },
  {
   "cell_type": "markdown",
   "metadata": {},
   "source": [
    "#### Comparison to Max-Min USD per year"
   ]
  },
  {
   "cell_type": "code",
   "execution_count": null,
   "metadata": {},
   "outputs": [],
   "source": [
    "s_minmax = (s_max_test - s_min_test)/2"
   ]
  },
  {
   "cell_type": "code",
   "execution_count": null,
   "metadata": {},
   "outputs": [],
   "source": [
    "# assign max amount for each award as predicted value\n",
    "minmax_pred = df_analysis['Awards Year'].map(s_minmax)\n",
    "\n",
    "# each record/award has a prediction which is the maximum amount"
   ]
  },
  {
   "cell_type": "code",
   "execution_count": null,
   "metadata": {},
   "outputs": [],
   "source": [
    "# retrieve only test set award\n",
    "y_minmax_pred = minmax_pred[test_docs.index].values"
   ]
  },
  {
   "cell_type": "code",
   "execution_count": null,
   "metadata": {},
   "outputs": [],
   "source": [
    "r2_score(y_test, y_minmax_pred)"
   ]
  },
  {
   "cell_type": "markdown",
   "metadata": {},
   "source": [
    "#### Comparison to average USD per year"
   ]
  },
  {
   "cell_type": "code",
   "execution_count": 26,
   "metadata": {},
   "outputs": [],
   "source": [
    "# take average of all awards per year\n",
    "s_avg_test = df_analysis.groupby('Awards Year', sort=True).amount_corrected.mean()"
   ]
  },
  {
   "cell_type": "code",
   "execution_count": 27,
   "metadata": {},
   "outputs": [],
   "source": [
    "# assign average amount for each award as predicted value\n",
    "avg_pred = df_analysis['Awards Year'].map(s_avg_test)"
   ]
  },
  {
   "cell_type": "code",
   "execution_count": 28,
   "metadata": {},
   "outputs": [],
   "source": [
    "# retrieve only test set average prediction\n",
    "y_avg_pred = avg_pred[test_docs.index].values"
   ]
  },
  {
   "cell_type": "code",
   "execution_count": 29,
   "metadata": {},
   "outputs": [
    {
     "data": {
      "text/plain": [
       "0.10172870113255872"
      ]
     },
     "execution_count": 29,
     "metadata": {},
     "output_type": "execute_result"
    }
   ],
   "source": [
    "r2_score(y_test, y_avg_pred)"
   ]
  },
  {
   "cell_type": "markdown",
   "metadata": {},
   "source": [
    "#### Comparison to prior yearly average USD\n",
    "Take the average of prior year"
   ]
  },
  {
   "cell_type": "code",
   "execution_count": 30,
   "metadata": {},
   "outputs": [],
   "source": [
    "s_prioryear_avg =  s_avg_test.tshift()"
   ]
  },
  {
   "cell_type": "code",
   "execution_count": 31,
   "metadata": {},
   "outputs": [],
   "source": [
    "# assign average amount for each award as predicted value\n",
    "avg_pred = df_analysis['Awards Year'].map(s_prioryear_avg)"
   ]
  },
  {
   "cell_type": "code",
   "execution_count": 32,
   "metadata": {},
   "outputs": [],
   "source": [
    "# retrieve only test set average prediction\n",
    "y_avg_pred = avg_pred[test_docs.index].values"
   ]
  },
  {
   "cell_type": "code",
   "execution_count": 33,
   "metadata": {},
   "outputs": [
    {
     "data": {
      "text/plain": [
       "0.008221703108541867"
      ]
     },
     "execution_count": 33,
     "metadata": {},
     "output_type": "execute_result"
    }
   ],
   "source": [
    "# remove nan records from first year (no prior information)\n",
    "filt_notnan = ~np.isnan(y_avg_pred)\n",
    "r2_score(y_test[filt_notnan], y_avg_pred[filt_notnan])"
   ]
  },
  {
   "cell_type": "code",
   "execution_count": null,
   "metadata": {},
   "outputs": [],
   "source": []
  },
  {
   "cell_type": "code",
   "execution_count": null,
   "metadata": {},
   "outputs": [],
   "source": []
  },
  {
   "cell_type": "code",
   "execution_count": null,
   "metadata": {},
   "outputs": [],
   "source": []
  },
  {
   "cell_type": "code",
   "execution_count": null,
   "metadata": {},
   "outputs": [],
   "source": []
  },
  {
   "cell_type": "code",
   "execution_count": 63,
   "metadata": {},
   "outputs": [
    {
     "data": {
      "text/plain": [
       "1010"
      ]
     },
     "execution_count": 63,
     "metadata": {},
     "output_type": "execute_result"
    }
   ],
   "source": [
    "(df_analysis.amount_corrected == 0).sum()"
   ]
  },
  {
   "cell_type": "code",
   "execution_count": 36,
   "metadata": {},
   "outputs": [
    {
     "name": "stdout",
     "output_type": "stream",
     "text": [
      "(54441, 13)\n"
     ]
    }
   ],
   "source": [
    "df_analysis.shape"
   ]
  },
  {
   "cell_type": "markdown",
   "metadata": {},
   "source": [
    "## Explore Document-term matrix"
   ]
  },
  {
   "cell_type": "code",
   "execution_count": 36,
   "metadata": {},
   "outputs": [
    {
     "data": {
      "text/plain": [
       "(45506, 4000)"
      ]
     },
     "execution_count": 36,
     "metadata": {},
     "output_type": "execute_result"
    }
   ],
   "source": [
    "vec = uv.CustomTfidfVectorizer(\n",
    "                            stop_words = sw,\n",
    "                            lowercase = True,\n",
    "                            min_df = 1,\n",
    "                            max_df = 1.,\n",
    "                            ngram_range = (1,2),\n",
    "                            max_features = 4000)\n",
    "Xdtm_tfidf = vec.fit_transform(df_analysis.text.values)\n",
    "Xdtm_tfidf.shape"
   ]
  },
  {
   "cell_type": "code",
   "execution_count": 37,
   "metadata": {},
   "outputs": [
    {
     "data": {
      "text/plain": [
       "(1, 1)"
      ]
     },
     "execution_count": 37,
     "metadata": {},
     "output_type": "execute_result"
    }
   ],
   "source": [
    "cnt = Xdtm_tfidf.sum(axis=1)\n",
    "cnt[cnt == 0].shape"
   ]
  },
  {
   "cell_type": "markdown",
   "metadata": {},
   "source": [
    "#### Most Frequent Terms"
   ]
  },
  {
   "cell_type": "code",
   "execution_count": 38,
   "metadata": {},
   "outputs": [],
   "source": [
    "# recover words\n",
    "words = vec.get_feature_names()"
   ]
  },
  {
   "cell_type": "code",
   "execution_count": 39,
   "metadata": {},
   "outputs": [],
   "source": [
    "# sum doc_term_matrix along rows for each column (i.e. word)\n",
    "word_freq = Xdtm_tfidf.sum(axis=0)"
   ]
  },
  {
   "cell_type": "code",
   "execution_count": 40,
   "metadata": {},
   "outputs": [],
   "source": [
    "# convert word_freq from matrix to ndarray and flatten it (ravel is faster than flatten as it returns a view instead of a copy)\n",
    "# then create a pandas serie for display\n",
    "s_word_freq = pd.Series( np.asarray(word_freq).ravel(), index = words )"
   ]
  },
  {
   "cell_type": "code",
   "execution_count": 42,
   "metadata": {},
   "outputs": [
    {
     "data": {
      "text/plain": [
       "high           1218.844632\n",
       "phase          1176.301041\n",
       "technology     1068.133824\n",
       "design         1050.687564\n",
       "sensor         1038.303129\n",
       "data            963.599106\n",
       "material        937.510854\n",
       "power           886.352562\n",
       "based           879.820482\n",
       "application     850.271010\n",
       "performance     781.281605\n",
       "proposed        773.907299\n",
       "cost            753.944208\n",
       "low             744.276235\n",
       "develop         733.517704\n",
       "development     723.378100\n",
       "model           711.431675\n",
       "device          703.125509\n",
       "laser           683.247562\n",
       "time            671.652804\n",
       "use             668.694718\n",
       "approach        661.837450\n",
       "process         656.397816\n",
       "using           653.603516\n",
       "control         627.657585\n",
       "provide         626.400446\n",
       "technique       618.264246\n",
       "new             612.221207\n",
       "component       582.261494\n",
       "tool            581.109249\n",
       "program         578.119446\n",
       "optical         575.966975\n",
       "capability      567.134649\n",
       "used            559.677328\n",
       "method          558.031103\n",
       "analysis        549.242601\n",
       "composite       545.438236\n",
       "software        543.638271\n",
       "environment     540.818025\n",
       "test            539.778183\n",
       "information     538.094898\n",
       "target          537.682739\n",
       "network         537.488924\n",
       "detection       533.565281\n",
       "effort          533.289386\n",
       "temperature     523.581644\n",
       "developed       518.656337\n",
       "vehicle         514.517868\n",
       "research        504.736539\n",
       "ii              503.369899\n",
       "dtype: float64"
      ]
     },
     "execution_count": 42,
     "metadata": {},
     "output_type": "execute_result"
    }
   ],
   "source": [
    "# display top words\n",
    "s_word_freq.sort_values(ascending=False).head(50)"
   ]
  },
  {
   "cell_type": "code",
   "execution_count": 77,
   "metadata": {},
   "outputs": [
    {
     "data": {
      "text/plain": [
       "kearfott          0.241768\n",
       "jirnov            0.241737\n",
       "nvms              0.241462\n",
       "respectfully      0.240549\n",
       "sourcefire        0.238671\n",
       "singapore         0.236090\n",
       "ideology          0.233520\n",
       "p3i               0.231549\n",
       "licensure         0.230564\n",
       "amounting         0.228072\n",
       "cr123             0.226736\n",
       "conrad            0.210827\n",
       "railcar           0.208635\n",
       "modelwill         0.208289\n",
       "aeroflex          0.205975\n",
       "16mb              0.205045\n",
       "atks              0.182331\n",
       "intellectually    0.170499\n",
       "12m               0.168388\n",
       "8e9               0.123748\n",
       "dtype: float64"
      ]
     },
     "execution_count": 77,
     "metadata": {},
     "output_type": "execute_result"
    }
   ],
   "source": [
    "# display top words\n",
    "s_word_freq.sort_values(ascending=False).tail(20)"
   ]
  },
  {
   "cell_type": "code",
   "execution_count": null,
   "metadata": {},
   "outputs": [],
   "source": []
  },
  {
   "cell_type": "code",
   "execution_count": null,
   "metadata": {},
   "outputs": [],
   "source": []
  },
  {
   "cell_type": "code",
   "execution_count": null,
   "metadata": {},
   "outputs": [],
   "source": []
  },
  {
   "cell_type": "markdown",
   "metadata": {},
   "source": [
    "## Similarity"
   ]
  },
  {
   "cell_type": "code",
   "execution_count": null,
   "metadata": {},
   "outputs": [],
   "source": [
    "from sklearn.metrics.pairwise import cosine_similarity\n",
    "\n",
    "# tv_dtm: output of vectorizer\n",
    "tv_matrix = tv_dtm.toarray()\n",
    "\n",
    "similarity_matrix = cosine_similarity(tv_matrix)"
   ]
  },
  {
   "cell_type": "code",
   "execution_count": null,
   "metadata": {},
   "outputs": [],
   "source": []
  },
  {
   "cell_type": "code",
   "execution_count": null,
   "metadata": {},
   "outputs": [],
   "source": []
  },
  {
   "cell_type": "code",
   "execution_count": 14,
   "metadata": {},
   "outputs": [],
   "source": [
    "# # !{sys.executable} -m spacy download en_core_web_sm\n",
    "# !{sys.executable} -m spacy download en_core_web_md\n",
    "# !{sys.executable} -m spacy download en_core_web_lg"
   ]
  },
  {
   "cell_type": "code",
   "execution_count": 15,
   "metadata": {},
   "outputs": [],
   "source": [
    "# # !{sys.executable} -m spacy link en_core_web_sm en;\n",
    "# !{sys.executable} -m spacy link en_core_web_md en;\n",
    "# !{sys.executable} -m spacy link en_core_web_lg en;"
   ]
  },
  {
   "cell_type": "code",
   "execution_count": 16,
   "metadata": {},
   "outputs": [
    {
     "name": "stdout",
     "output_type": "stream",
     "text": [
      "\r\n",
      "\u001b[93m    Installed models (spaCy v2.0.11)\u001b[0m\r\n",
      "    /home/ceddie/anaconda3/envs/insight/lib/python3.6/site-packages/spacy\r\n",
      "\r\n",
      "    TYPE        NAME                  MODEL                 VERSION                                   \r\n",
      "    package     en-core-web-sm        en_core_web_sm        \u001b[38;5;2m2.0.0\u001b[0m    \u001b[38;5;2m✔\u001b[0m      \r\n",
      "    package     en-core-web-md        en_core_web_md        \u001b[38;5;2m2.0.0\u001b[0m    \u001b[38;5;2m✔\u001b[0m      \r\n",
      "    package     en-core-web-lg        en_core_web_lg        \u001b[38;5;2m2.0.0\u001b[0m    \u001b[38;5;2m✔\u001b[0m      \r\n",
      "    link        en_core_web_md        en_core_web_md        \u001b[38;5;2m2.0.0\u001b[0m    \u001b[38;5;2m✔\u001b[0m      \r\n",
      "    link        en                    en_core_web_sm        \u001b[38;5;2m2.0.0\u001b[0m    \u001b[38;5;2m✔\u001b[0m      \r\n",
      "    link        en_core_web_lg        en_core_web_lg        \u001b[38;5;2m2.0.0\u001b[0m    \u001b[38;5;2m✔\u001b[0m      \r\n"
     ]
    }
   ],
   "source": [
    "# validate installation\n",
    "!{sys.executable} -m spacy validate"
   ]
  },
  {
   "cell_type": "code",
   "execution_count": 17,
   "metadata": {},
   "outputs": [
    {
     "name": "stderr",
     "output_type": "stream",
     "text": [
      "/home/ceddie/anaconda3/envs/insight/lib/python3.6/site-packages/msgpack_numpy.py:84: DeprecationWarning: The binary mode of fromstring is deprecated, as it behaves surprisingly on unicode inputs. Use frombuffer instead\n",
      "  dtype=np.dtype(descr)).reshape(obj[b'shape'])\n",
      "/home/ceddie/anaconda3/envs/insight/lib/python3.6/site-packages/msgpack_numpy.py:88: DeprecationWarning: The binary mode of fromstring is deprecated, as it behaves surprisingly on unicode inputs. Use frombuffer instead\n",
      "  dtype=np.dtype(descr))[0]\n",
      "/home/ceddie/anaconda3/envs/insight/lib/python3.6/site-packages/msgpack_numpy.py:84: DeprecationWarning: The binary mode of fromstring is deprecated, as it behaves surprisingly on unicode inputs. Use frombuffer instead\n",
      "  dtype=np.dtype(descr)).reshape(obj[b'shape'])\n",
      "/home/ceddie/anaconda3/envs/insight/lib/python3.6/site-packages/msgpack_numpy.py:84: DeprecationWarning: The binary mode of fromstring is deprecated, as it behaves surprisingly on unicode inputs. Use frombuffer instead\n",
      "  dtype=np.dtype(descr)).reshape(obj[b'shape'])\n",
      "/home/ceddie/anaconda3/envs/insight/lib/python3.6/site-packages/msgpack_numpy.py:88: DeprecationWarning: The binary mode of fromstring is deprecated, as it behaves surprisingly on unicode inputs. Use frombuffer instead\n",
      "  dtype=np.dtype(descr))[0]\n",
      "/home/ceddie/anaconda3/envs/insight/lib/python3.6/site-packages/msgpack_numpy.py:84: DeprecationWarning: The binary mode of fromstring is deprecated, as it behaves surprisingly on unicode inputs. Use frombuffer instead\n",
      "  dtype=np.dtype(descr)).reshape(obj[b'shape'])\n",
      "/home/ceddie/anaconda3/envs/insight/lib/python3.6/site-packages/msgpack_numpy.py:84: DeprecationWarning: The binary mode of fromstring is deprecated, as it behaves surprisingly on unicode inputs. Use frombuffer instead\n",
      "  dtype=np.dtype(descr)).reshape(obj[b'shape'])\n",
      "/home/ceddie/anaconda3/envs/insight/lib/python3.6/site-packages/msgpack_numpy.py:88: DeprecationWarning: The binary mode of fromstring is deprecated, as it behaves surprisingly on unicode inputs. Use frombuffer instead\n",
      "  dtype=np.dtype(descr))[0]\n",
      "/home/ceddie/anaconda3/envs/insight/lib/python3.6/site-packages/msgpack_numpy.py:84: DeprecationWarning: The binary mode of fromstring is deprecated, as it behaves surprisingly on unicode inputs. Use frombuffer instead\n",
      "  dtype=np.dtype(descr)).reshape(obj[b'shape'])\n",
      "/home/ceddie/anaconda3/envs/insight/lib/python3.6/site-packages/msgpack_numpy.py:84: DeprecationWarning: The binary mode of fromstring is deprecated, as it behaves surprisingly on unicode inputs. Use frombuffer instead\n",
      "  dtype=np.dtype(descr)).reshape(obj[b'shape'])\n",
      "/home/ceddie/anaconda3/envs/insight/lib/python3.6/site-packages/msgpack_numpy.py:88: DeprecationWarning: The binary mode of fromstring is deprecated, as it behaves surprisingly on unicode inputs. Use frombuffer instead\n",
      "  dtype=np.dtype(descr))[0]\n",
      "/home/ceddie/anaconda3/envs/insight/lib/python3.6/site-packages/msgpack_numpy.py:84: DeprecationWarning: The binary mode of fromstring is deprecated, as it behaves surprisingly on unicode inputs. Use frombuffer instead\n",
      "  dtype=np.dtype(descr)).reshape(obj[b'shape'])\n",
      "/home/ceddie/anaconda3/envs/insight/lib/python3.6/site-packages/msgpack_numpy.py:84: DeprecationWarning: The binary mode of fromstring is deprecated, as it behaves surprisingly on unicode inputs. Use frombuffer instead\n",
      "  dtype=np.dtype(descr)).reshape(obj[b'shape'])\n",
      "/home/ceddie/anaconda3/envs/insight/lib/python3.6/site-packages/msgpack_numpy.py:88: DeprecationWarning: The binary mode of fromstring is deprecated, as it behaves surprisingly on unicode inputs. Use frombuffer instead\n",
      "  dtype=np.dtype(descr))[0]\n",
      "/home/ceddie/anaconda3/envs/insight/lib/python3.6/site-packages/msgpack_numpy.py:84: DeprecationWarning: The binary mode of fromstring is deprecated, as it behaves surprisingly on unicode inputs. Use frombuffer instead\n",
      "  dtype=np.dtype(descr)).reshape(obj[b'shape'])\n",
      "/home/ceddie/anaconda3/envs/insight/lib/python3.6/site-packages/msgpack_numpy.py:84: DeprecationWarning: The binary mode of fromstring is deprecated, as it behaves surprisingly on unicode inputs. Use frombuffer instead\n",
      "  dtype=np.dtype(descr)).reshape(obj[b'shape'])\n",
      "/home/ceddie/anaconda3/envs/insight/lib/python3.6/site-packages/msgpack_numpy.py:88: DeprecationWarning: The binary mode of fromstring is deprecated, as it behaves surprisingly on unicode inputs. Use frombuffer instead\n",
      "  dtype=np.dtype(descr))[0]\n",
      "/home/ceddie/anaconda3/envs/insight/lib/python3.6/site-packages/msgpack_numpy.py:84: DeprecationWarning: The binary mode of fromstring is deprecated, as it behaves surprisingly on unicode inputs. Use frombuffer instead\n",
      "  dtype=np.dtype(descr)).reshape(obj[b'shape'])\n",
      "/home/ceddie/anaconda3/envs/insight/lib/python3.6/site-packages/msgpack_numpy.py:84: DeprecationWarning: The binary mode of fromstring is deprecated, as it behaves surprisingly on unicode inputs. Use frombuffer instead\n",
      "  dtype=np.dtype(descr)).reshape(obj[b'shape'])\n",
      "/home/ceddie/anaconda3/envs/insight/lib/python3.6/site-packages/msgpack_numpy.py:84: DeprecationWarning: The binary mode of fromstring is deprecated, as it behaves surprisingly on unicode inputs. Use frombuffer instead\n",
      "  dtype=np.dtype(descr)).reshape(obj[b'shape'])\n",
      "/home/ceddie/anaconda3/envs/insight/lib/python3.6/site-packages/msgpack_numpy.py:88: DeprecationWarning: The binary mode of fromstring is deprecated, as it behaves surprisingly on unicode inputs. Use frombuffer instead\n",
      "  dtype=np.dtype(descr))[0]\n",
      "/home/ceddie/anaconda3/envs/insight/lib/python3.6/site-packages/msgpack_numpy.py:84: DeprecationWarning: The binary mode of fromstring is deprecated, as it behaves surprisingly on unicode inputs. Use frombuffer instead\n",
      "  dtype=np.dtype(descr)).reshape(obj[b'shape'])\n",
      "/home/ceddie/anaconda3/envs/insight/lib/python3.6/site-packages/msgpack_numpy.py:84: DeprecationWarning: The binary mode of fromstring is deprecated, as it behaves surprisingly on unicode inputs. Use frombuffer instead\n",
      "  dtype=np.dtype(descr)).reshape(obj[b'shape'])\n",
      "/home/ceddie/anaconda3/envs/insight/lib/python3.6/site-packages/msgpack_numpy.py:88: DeprecationWarning: The binary mode of fromstring is deprecated, as it behaves surprisingly on unicode inputs. Use frombuffer instead\n",
      "  dtype=np.dtype(descr))[0]\n",
      "/home/ceddie/anaconda3/envs/insight/lib/python3.6/site-packages/msgpack_numpy.py:84: DeprecationWarning: The binary mode of fromstring is deprecated, as it behaves surprisingly on unicode inputs. Use frombuffer instead\n",
      "  dtype=np.dtype(descr)).reshape(obj[b'shape'])\n",
      "/home/ceddie/anaconda3/envs/insight/lib/python3.6/site-packages/msgpack_numpy.py:84: DeprecationWarning: The binary mode of fromstring is deprecated, as it behaves surprisingly on unicode inputs. Use frombuffer instead\n",
      "  dtype=np.dtype(descr)).reshape(obj[b'shape'])\n",
      "/home/ceddie/anaconda3/envs/insight/lib/python3.6/site-packages/msgpack_numpy.py:88: DeprecationWarning: The binary mode of fromstring is deprecated, as it behaves surprisingly on unicode inputs. Use frombuffer instead\n",
      "  dtype=np.dtype(descr))[0]\n",
      "/home/ceddie/anaconda3/envs/insight/lib/python3.6/site-packages/msgpack_numpy.py:84: DeprecationWarning: The binary mode of fromstring is deprecated, as it behaves surprisingly on unicode inputs. Use frombuffer instead\n",
      "  dtype=np.dtype(descr)).reshape(obj[b'shape'])\n",
      "/home/ceddie/anaconda3/envs/insight/lib/python3.6/site-packages/msgpack_numpy.py:84: DeprecationWarning: The binary mode of fromstring is deprecated, as it behaves surprisingly on unicode inputs. Use frombuffer instead\n",
      "  dtype=np.dtype(descr)).reshape(obj[b'shape'])\n",
      "/home/ceddie/anaconda3/envs/insight/lib/python3.6/site-packages/msgpack_numpy.py:88: DeprecationWarning: The binary mode of fromstring is deprecated, as it behaves surprisingly on unicode inputs. Use frombuffer instead\n",
      "  dtype=np.dtype(descr))[0]\n",
      "/home/ceddie/anaconda3/envs/insight/lib/python3.6/site-packages/msgpack_numpy.py:84: DeprecationWarning: The binary mode of fromstring is deprecated, as it behaves surprisingly on unicode inputs. Use frombuffer instead\n",
      "  dtype=np.dtype(descr)).reshape(obj[b'shape'])\n",
      "/home/ceddie/anaconda3/envs/insight/lib/python3.6/site-packages/msgpack_numpy.py:84: DeprecationWarning: The binary mode of fromstring is deprecated, as it behaves surprisingly on unicode inputs. Use frombuffer instead\n",
      "  dtype=np.dtype(descr)).reshape(obj[b'shape'])\n",
      "/home/ceddie/anaconda3/envs/insight/lib/python3.6/site-packages/msgpack_numpy.py:88: DeprecationWarning: The binary mode of fromstring is deprecated, as it behaves surprisingly on unicode inputs. Use frombuffer instead\n",
      "  dtype=np.dtype(descr))[0]\n",
      "/home/ceddie/anaconda3/envs/insight/lib/python3.6/site-packages/msgpack_numpy.py:84: DeprecationWarning: The binary mode of fromstring is deprecated, as it behaves surprisingly on unicode inputs. Use frombuffer instead\n",
      "  dtype=np.dtype(descr)).reshape(obj[b'shape'])\n",
      "/home/ceddie/anaconda3/envs/insight/lib/python3.6/site-packages/msgpack_numpy.py:84: DeprecationWarning: The binary mode of fromstring is deprecated, as it behaves surprisingly on unicode inputs. Use frombuffer instead\n",
      "  dtype=np.dtype(descr)).reshape(obj[b'shape'])\n",
      "/home/ceddie/anaconda3/envs/insight/lib/python3.6/site-packages/msgpack_numpy.py:84: DeprecationWarning: The binary mode of fromstring is deprecated, as it behaves surprisingly on unicode inputs. Use frombuffer instead\n",
      "  dtype=np.dtype(descr)).reshape(obj[b'shape'])\n",
      "/home/ceddie/anaconda3/envs/insight/lib/python3.6/site-packages/msgpack_numpy.py:84: DeprecationWarning: The binary mode of fromstring is deprecated, as it behaves surprisingly on unicode inputs. Use frombuffer instead\n",
      "  dtype=np.dtype(descr)).reshape(obj[b'shape'])\n",
      "/home/ceddie/anaconda3/envs/insight/lib/python3.6/site-packages/msgpack_numpy.py:84: DeprecationWarning: The binary mode of fromstring is deprecated, as it behaves surprisingly on unicode inputs. Use frombuffer instead\n",
      "  dtype=np.dtype(descr)).reshape(obj[b'shape'])\n",
      "/home/ceddie/anaconda3/envs/insight/lib/python3.6/site-packages/msgpack_numpy.py:88: DeprecationWarning: The binary mode of fromstring is deprecated, as it behaves surprisingly on unicode inputs. Use frombuffer instead\n",
      "  dtype=np.dtype(descr))[0]\n",
      "/home/ceddie/anaconda3/envs/insight/lib/python3.6/site-packages/msgpack_numpy.py:84: DeprecationWarning: The binary mode of fromstring is deprecated, as it behaves surprisingly on unicode inputs. Use frombuffer instead\n",
      "  dtype=np.dtype(descr)).reshape(obj[b'shape'])\n",
      "/home/ceddie/anaconda3/envs/insight/lib/python3.6/site-packages/msgpack_numpy.py:84: DeprecationWarning: The binary mode of fromstring is deprecated, as it behaves surprisingly on unicode inputs. Use frombuffer instead\n",
      "  dtype=np.dtype(descr)).reshape(obj[b'shape'])\n",
      "/home/ceddie/anaconda3/envs/insight/lib/python3.6/site-packages/msgpack_numpy.py:88: DeprecationWarning: The binary mode of fromstring is deprecated, as it behaves surprisingly on unicode inputs. Use frombuffer instead\n",
      "  dtype=np.dtype(descr))[0]\n",
      "/home/ceddie/anaconda3/envs/insight/lib/python3.6/site-packages/msgpack_numpy.py:84: DeprecationWarning: The binary mode of fromstring is deprecated, as it behaves surprisingly on unicode inputs. Use frombuffer instead\n",
      "  dtype=np.dtype(descr)).reshape(obj[b'shape'])\n",
      "/home/ceddie/anaconda3/envs/insight/lib/python3.6/site-packages/msgpack_numpy.py:84: DeprecationWarning: The binary mode of fromstring is deprecated, as it behaves surprisingly on unicode inputs. Use frombuffer instead\n",
      "  dtype=np.dtype(descr)).reshape(obj[b'shape'])\n",
      "/home/ceddie/anaconda3/envs/insight/lib/python3.6/site-packages/msgpack_numpy.py:88: DeprecationWarning: The binary mode of fromstring is deprecated, as it behaves surprisingly on unicode inputs. Use frombuffer instead\n",
      "  dtype=np.dtype(descr))[0]\n",
      "/home/ceddie/anaconda3/envs/insight/lib/python3.6/site-packages/msgpack_numpy.py:84: DeprecationWarning: The binary mode of fromstring is deprecated, as it behaves surprisingly on unicode inputs. Use frombuffer instead\n",
      "  dtype=np.dtype(descr)).reshape(obj[b'shape'])\n",
      "/home/ceddie/anaconda3/envs/insight/lib/python3.6/site-packages/msgpack_numpy.py:84: DeprecationWarning: The binary mode of fromstring is deprecated, as it behaves surprisingly on unicode inputs. Use frombuffer instead\n",
      "  dtype=np.dtype(descr)).reshape(obj[b'shape'])\n",
      "/home/ceddie/anaconda3/envs/insight/lib/python3.6/site-packages/msgpack_numpy.py:88: DeprecationWarning: The binary mode of fromstring is deprecated, as it behaves surprisingly on unicode inputs. Use frombuffer instead\n",
      "  dtype=np.dtype(descr))[0]\n",
      "/home/ceddie/anaconda3/envs/insight/lib/python3.6/site-packages/msgpack_numpy.py:84: DeprecationWarning: The binary mode of fromstring is deprecated, as it behaves surprisingly on unicode inputs. Use frombuffer instead\n",
      "  dtype=np.dtype(descr)).reshape(obj[b'shape'])\n",
      "/home/ceddie/anaconda3/envs/insight/lib/python3.6/site-packages/msgpack_numpy.py:84: DeprecationWarning: The binary mode of fromstring is deprecated, as it behaves surprisingly on unicode inputs. Use frombuffer instead\n",
      "  dtype=np.dtype(descr)).reshape(obj[b'shape'])\n",
      "/home/ceddie/anaconda3/envs/insight/lib/python3.6/site-packages/msgpack_numpy.py:88: DeprecationWarning: The binary mode of fromstring is deprecated, as it behaves surprisingly on unicode inputs. Use frombuffer instead\n",
      "  dtype=np.dtype(descr))[0]\n",
      "/home/ceddie/anaconda3/envs/insight/lib/python3.6/site-packages/msgpack_numpy.py:84: DeprecationWarning: The binary mode of fromstring is deprecated, as it behaves surprisingly on unicode inputs. Use frombuffer instead\n",
      "  dtype=np.dtype(descr)).reshape(obj[b'shape'])\n",
      "/home/ceddie/anaconda3/envs/insight/lib/python3.6/site-packages/msgpack_numpy.py:84: DeprecationWarning: The binary mode of fromstring is deprecated, as it behaves surprisingly on unicode inputs. Use frombuffer instead\n",
      "  dtype=np.dtype(descr)).reshape(obj[b'shape'])\n",
      "/home/ceddie/anaconda3/envs/insight/lib/python3.6/site-packages/msgpack_numpy.py:84: DeprecationWarning: The binary mode of fromstring is deprecated, as it behaves surprisingly on unicode inputs. Use frombuffer instead\n",
      "  dtype=np.dtype(descr)).reshape(obj[b'shape'])\n",
      "/home/ceddie/anaconda3/envs/insight/lib/python3.6/site-packages/msgpack_numpy.py:88: DeprecationWarning: The binary mode of fromstring is deprecated, as it behaves surprisingly on unicode inputs. Use frombuffer instead\n",
      "  dtype=np.dtype(descr))[0]\n",
      "/home/ceddie/anaconda3/envs/insight/lib/python3.6/site-packages/msgpack_numpy.py:84: DeprecationWarning: The binary mode of fromstring is deprecated, as it behaves surprisingly on unicode inputs. Use frombuffer instead\n",
      "  dtype=np.dtype(descr)).reshape(obj[b'shape'])\n",
      "/home/ceddie/anaconda3/envs/insight/lib/python3.6/site-packages/msgpack_numpy.py:84: DeprecationWarning: The binary mode of fromstring is deprecated, as it behaves surprisingly on unicode inputs. Use frombuffer instead\n",
      "  dtype=np.dtype(descr)).reshape(obj[b'shape'])\n",
      "/home/ceddie/anaconda3/envs/insight/lib/python3.6/site-packages/msgpack_numpy.py:88: DeprecationWarning: The binary mode of fromstring is deprecated, as it behaves surprisingly on unicode inputs. Use frombuffer instead\n",
      "  dtype=np.dtype(descr))[0]\n",
      "/home/ceddie/anaconda3/envs/insight/lib/python3.6/site-packages/msgpack_numpy.py:84: DeprecationWarning: The binary mode of fromstring is deprecated, as it behaves surprisingly on unicode inputs. Use frombuffer instead\n",
      "  dtype=np.dtype(descr)).reshape(obj[b'shape'])\n",
      "/home/ceddie/anaconda3/envs/insight/lib/python3.6/site-packages/msgpack_numpy.py:84: DeprecationWarning: The binary mode of fromstring is deprecated, as it behaves surprisingly on unicode inputs. Use frombuffer instead\n",
      "  dtype=np.dtype(descr)).reshape(obj[b'shape'])\n",
      "/home/ceddie/anaconda3/envs/insight/lib/python3.6/site-packages/msgpack_numpy.py:88: DeprecationWarning: The binary mode of fromstring is deprecated, as it behaves surprisingly on unicode inputs. Use frombuffer instead\n",
      "  dtype=np.dtype(descr))[0]\n",
      "/home/ceddie/anaconda3/envs/insight/lib/python3.6/site-packages/msgpack_numpy.py:84: DeprecationWarning: The binary mode of fromstring is deprecated, as it behaves surprisingly on unicode inputs. Use frombuffer instead\n",
      "  dtype=np.dtype(descr)).reshape(obj[b'shape'])\n",
      "/home/ceddie/anaconda3/envs/insight/lib/python3.6/site-packages/msgpack_numpy.py:84: DeprecationWarning: The binary mode of fromstring is deprecated, as it behaves surprisingly on unicode inputs. Use frombuffer instead\n",
      "  dtype=np.dtype(descr)).reshape(obj[b'shape'])\n",
      "/home/ceddie/anaconda3/envs/insight/lib/python3.6/site-packages/msgpack_numpy.py:88: DeprecationWarning: The binary mode of fromstring is deprecated, as it behaves surprisingly on unicode inputs. Use frombuffer instead\n",
      "  dtype=np.dtype(descr))[0]\n",
      "/home/ceddie/anaconda3/envs/insight/lib/python3.6/site-packages/msgpack_numpy.py:84: DeprecationWarning: The binary mode of fromstring is deprecated, as it behaves surprisingly on unicode inputs. Use frombuffer instead\n",
      "  dtype=np.dtype(descr)).reshape(obj[b'shape'])\n",
      "/home/ceddie/anaconda3/envs/insight/lib/python3.6/site-packages/msgpack_numpy.py:84: DeprecationWarning: The binary mode of fromstring is deprecated, as it behaves surprisingly on unicode inputs. Use frombuffer instead\n",
      "  dtype=np.dtype(descr)).reshape(obj[b'shape'])\n",
      "/home/ceddie/anaconda3/envs/insight/lib/python3.6/site-packages/msgpack_numpy.py:88: DeprecationWarning: The binary mode of fromstring is deprecated, as it behaves surprisingly on unicode inputs. Use frombuffer instead\n",
      "  dtype=np.dtype(descr))[0]\n",
      "/home/ceddie/anaconda3/envs/insight/lib/python3.6/site-packages/msgpack_numpy.py:84: DeprecationWarning: The binary mode of fromstring is deprecated, as it behaves surprisingly on unicode inputs. Use frombuffer instead\n",
      "  dtype=np.dtype(descr)).reshape(obj[b'shape'])\n",
      "/home/ceddie/anaconda3/envs/insight/lib/python3.6/site-packages/msgpack_numpy.py:84: DeprecationWarning: The binary mode of fromstring is deprecated, as it behaves surprisingly on unicode inputs. Use frombuffer instead\n",
      "  dtype=np.dtype(descr)).reshape(obj[b'shape'])\n",
      "/home/ceddie/anaconda3/envs/insight/lib/python3.6/site-packages/msgpack_numpy.py:84: DeprecationWarning: The binary mode of fromstring is deprecated, as it behaves surprisingly on unicode inputs. Use frombuffer instead\n",
      "  dtype=np.dtype(descr)).reshape(obj[b'shape'])\n",
      "/home/ceddie/anaconda3/envs/insight/lib/python3.6/site-packages/msgpack_numpy.py:84: DeprecationWarning: The binary mode of fromstring is deprecated, as it behaves surprisingly on unicode inputs. Use frombuffer instead\n",
      "  dtype=np.dtype(descr)).reshape(obj[b'shape'])\n",
      "/home/ceddie/anaconda3/envs/insight/lib/python3.6/site-packages/msgpack_numpy.py:84: DeprecationWarning: The binary mode of fromstring is deprecated, as it behaves surprisingly on unicode inputs. Use frombuffer instead\n",
      "  dtype=np.dtype(descr)).reshape(obj[b'shape'])\n",
      "/home/ceddie/anaconda3/envs/insight/lib/python3.6/site-packages/msgpack_numpy.py:88: DeprecationWarning: The binary mode of fromstring is deprecated, as it behaves surprisingly on unicode inputs. Use frombuffer instead\n",
      "  dtype=np.dtype(descr))[0]\n",
      "/home/ceddie/anaconda3/envs/insight/lib/python3.6/site-packages/msgpack_numpy.py:84: DeprecationWarning: The binary mode of fromstring is deprecated, as it behaves surprisingly on unicode inputs. Use frombuffer instead\n",
      "  dtype=np.dtype(descr)).reshape(obj[b'shape'])\n",
      "/home/ceddie/anaconda3/envs/insight/lib/python3.6/site-packages/msgpack_numpy.py:88: DeprecationWarning: The binary mode of fromstring is deprecated, as it behaves surprisingly on unicode inputs. Use frombuffer instead\n",
      "  dtype=np.dtype(descr))[0]\n",
      "/home/ceddie/anaconda3/envs/insight/lib/python3.6/site-packages/msgpack_numpy.py:84: DeprecationWarning: The binary mode of fromstring is deprecated, as it behaves surprisingly on unicode inputs. Use frombuffer instead\n",
      "  dtype=np.dtype(descr)).reshape(obj[b'shape'])\n",
      "/home/ceddie/anaconda3/envs/insight/lib/python3.6/site-packages/msgpack_numpy.py:84: DeprecationWarning: The binary mode of fromstring is deprecated, as it behaves surprisingly on unicode inputs. Use frombuffer instead\n",
      "  dtype=np.dtype(descr)).reshape(obj[b'shape'])\n",
      "/home/ceddie/anaconda3/envs/insight/lib/python3.6/site-packages/msgpack_numpy.py:88: DeprecationWarning: The binary mode of fromstring is deprecated, as it behaves surprisingly on unicode inputs. Use frombuffer instead\n",
      "  dtype=np.dtype(descr))[0]\n",
      "/home/ceddie/anaconda3/envs/insight/lib/python3.6/site-packages/msgpack_numpy.py:84: DeprecationWarning: The binary mode of fromstring is deprecated, as it behaves surprisingly on unicode inputs. Use frombuffer instead\n",
      "  dtype=np.dtype(descr)).reshape(obj[b'shape'])\n",
      "/home/ceddie/anaconda3/envs/insight/lib/python3.6/site-packages/msgpack_numpy.py:84: DeprecationWarning: The binary mode of fromstring is deprecated, as it behaves surprisingly on unicode inputs. Use frombuffer instead\n",
      "  dtype=np.dtype(descr)).reshape(obj[b'shape'])\n",
      "/home/ceddie/anaconda3/envs/insight/lib/python3.6/site-packages/msgpack_numpy.py:88: DeprecationWarning: The binary mode of fromstring is deprecated, as it behaves surprisingly on unicode inputs. Use frombuffer instead\n",
      "  dtype=np.dtype(descr))[0]\n",
      "/home/ceddie/anaconda3/envs/insight/lib/python3.6/site-packages/msgpack_numpy.py:84: DeprecationWarning: The binary mode of fromstring is deprecated, as it behaves surprisingly on unicode inputs. Use frombuffer instead\n",
      "  dtype=np.dtype(descr)).reshape(obj[b'shape'])\n",
      "/home/ceddie/anaconda3/envs/insight/lib/python3.6/site-packages/msgpack_numpy.py:84: DeprecationWarning: The binary mode of fromstring is deprecated, as it behaves surprisingly on unicode inputs. Use frombuffer instead\n",
      "  dtype=np.dtype(descr)).reshape(obj[b'shape'])\n",
      "/home/ceddie/anaconda3/envs/insight/lib/python3.6/site-packages/msgpack_numpy.py:88: DeprecationWarning: The binary mode of fromstring is deprecated, as it behaves surprisingly on unicode inputs. Use frombuffer instead\n",
      "  dtype=np.dtype(descr))[0]\n",
      "/home/ceddie/anaconda3/envs/insight/lib/python3.6/site-packages/msgpack_numpy.py:84: DeprecationWarning: The binary mode of fromstring is deprecated, as it behaves surprisingly on unicode inputs. Use frombuffer instead\n",
      "  dtype=np.dtype(descr)).reshape(obj[b'shape'])\n",
      "/home/ceddie/anaconda3/envs/insight/lib/python3.6/site-packages/msgpack_numpy.py:84: DeprecationWarning: The binary mode of fromstring is deprecated, as it behaves surprisingly on unicode inputs. Use frombuffer instead\n",
      "  dtype=np.dtype(descr)).reshape(obj[b'shape'])\n",
      "/home/ceddie/anaconda3/envs/insight/lib/python3.6/site-packages/msgpack_numpy.py:88: DeprecationWarning: The binary mode of fromstring is deprecated, as it behaves surprisingly on unicode inputs. Use frombuffer instead\n",
      "  dtype=np.dtype(descr))[0]\n",
      "/home/ceddie/anaconda3/envs/insight/lib/python3.6/site-packages/msgpack_numpy.py:84: DeprecationWarning: The binary mode of fromstring is deprecated, as it behaves surprisingly on unicode inputs. Use frombuffer instead\n",
      "  dtype=np.dtype(descr)).reshape(obj[b'shape'])\n",
      "/home/ceddie/anaconda3/envs/insight/lib/python3.6/site-packages/msgpack_numpy.py:84: DeprecationWarning: The binary mode of fromstring is deprecated, as it behaves surprisingly on unicode inputs. Use frombuffer instead\n",
      "  dtype=np.dtype(descr)).reshape(obj[b'shape'])\n",
      "/home/ceddie/anaconda3/envs/insight/lib/python3.6/site-packages/msgpack_numpy.py:88: DeprecationWarning: The binary mode of fromstring is deprecated, as it behaves surprisingly on unicode inputs. Use frombuffer instead\n",
      "  dtype=np.dtype(descr))[0]\n",
      "/home/ceddie/anaconda3/envs/insight/lib/python3.6/site-packages/msgpack_numpy.py:84: DeprecationWarning: The binary mode of fromstring is deprecated, as it behaves surprisingly on unicode inputs. Use frombuffer instead\n",
      "  dtype=np.dtype(descr)).reshape(obj[b'shape'])\n",
      "/home/ceddie/anaconda3/envs/insight/lib/python3.6/site-packages/msgpack_numpy.py:84: DeprecationWarning: The binary mode of fromstring is deprecated, as it behaves surprisingly on unicode inputs. Use frombuffer instead\n",
      "  dtype=np.dtype(descr)).reshape(obj[b'shape'])\n",
      "/home/ceddie/anaconda3/envs/insight/lib/python3.6/site-packages/msgpack_numpy.py:88: DeprecationWarning: The binary mode of fromstring is deprecated, as it behaves surprisingly on unicode inputs. Use frombuffer instead\n",
      "  dtype=np.dtype(descr))[0]\n",
      "/home/ceddie/anaconda3/envs/insight/lib/python3.6/site-packages/msgpack_numpy.py:84: DeprecationWarning: The binary mode of fromstring is deprecated, as it behaves surprisingly on unicode inputs. Use frombuffer instead\n",
      "  dtype=np.dtype(descr)).reshape(obj[b'shape'])\n",
      "/home/ceddie/anaconda3/envs/insight/lib/python3.6/site-packages/msgpack_numpy.py:84: DeprecationWarning: The binary mode of fromstring is deprecated, as it behaves surprisingly on unicode inputs. Use frombuffer instead\n",
      "  dtype=np.dtype(descr)).reshape(obj[b'shape'])\n",
      "/home/ceddie/anaconda3/envs/insight/lib/python3.6/site-packages/msgpack_numpy.py:84: DeprecationWarning: The binary mode of fromstring is deprecated, as it behaves surprisingly on unicode inputs. Use frombuffer instead\n",
      "  dtype=np.dtype(descr)).reshape(obj[b'shape'])\n",
      "/home/ceddie/anaconda3/envs/insight/lib/python3.6/site-packages/msgpack_numpy.py:88: DeprecationWarning: The binary mode of fromstring is deprecated, as it behaves surprisingly on unicode inputs. Use frombuffer instead\n",
      "  dtype=np.dtype(descr))[0]\n",
      "/home/ceddie/anaconda3/envs/insight/lib/python3.6/site-packages/msgpack_numpy.py:84: DeprecationWarning: The binary mode of fromstring is deprecated, as it behaves surprisingly on unicode inputs. Use frombuffer instead\n",
      "  dtype=np.dtype(descr)).reshape(obj[b'shape'])\n",
      "/home/ceddie/anaconda3/envs/insight/lib/python3.6/site-packages/msgpack_numpy.py:84: DeprecationWarning: The binary mode of fromstring is deprecated, as it behaves surprisingly on unicode inputs. Use frombuffer instead\n",
      "  dtype=np.dtype(descr)).reshape(obj[b'shape'])\n",
      "/home/ceddie/anaconda3/envs/insight/lib/python3.6/site-packages/msgpack_numpy.py:88: DeprecationWarning: The binary mode of fromstring is deprecated, as it behaves surprisingly on unicode inputs. Use frombuffer instead\n",
      "  dtype=np.dtype(descr))[0]\n",
      "/home/ceddie/anaconda3/envs/insight/lib/python3.6/site-packages/msgpack_numpy.py:84: DeprecationWarning: The binary mode of fromstring is deprecated, as it behaves surprisingly on unicode inputs. Use frombuffer instead\n",
      "  dtype=np.dtype(descr)).reshape(obj[b'shape'])\n",
      "/home/ceddie/anaconda3/envs/insight/lib/python3.6/site-packages/msgpack_numpy.py:84: DeprecationWarning: The binary mode of fromstring is deprecated, as it behaves surprisingly on unicode inputs. Use frombuffer instead\n",
      "  dtype=np.dtype(descr)).reshape(obj[b'shape'])\n",
      "/home/ceddie/anaconda3/envs/insight/lib/python3.6/site-packages/msgpack_numpy.py:88: DeprecationWarning: The binary mode of fromstring is deprecated, as it behaves surprisingly on unicode inputs. Use frombuffer instead\n",
      "  dtype=np.dtype(descr))[0]\n",
      "/home/ceddie/anaconda3/envs/insight/lib/python3.6/site-packages/msgpack_numpy.py:84: DeprecationWarning: The binary mode of fromstring is deprecated, as it behaves surprisingly on unicode inputs. Use frombuffer instead\n",
      "  dtype=np.dtype(descr)).reshape(obj[b'shape'])\n",
      "/home/ceddie/anaconda3/envs/insight/lib/python3.6/site-packages/msgpack_numpy.py:84: DeprecationWarning: The binary mode of fromstring is deprecated, as it behaves surprisingly on unicode inputs. Use frombuffer instead\n",
      "  dtype=np.dtype(descr)).reshape(obj[b'shape'])\n",
      "/home/ceddie/anaconda3/envs/insight/lib/python3.6/site-packages/msgpack_numpy.py:88: DeprecationWarning: The binary mode of fromstring is deprecated, as it behaves surprisingly on unicode inputs. Use frombuffer instead\n",
      "  dtype=np.dtype(descr))[0]\n",
      "/home/ceddie/anaconda3/envs/insight/lib/python3.6/site-packages/msgpack_numpy.py:84: DeprecationWarning: The binary mode of fromstring is deprecated, as it behaves surprisingly on unicode inputs. Use frombuffer instead\n",
      "  dtype=np.dtype(descr)).reshape(obj[b'shape'])\n",
      "/home/ceddie/anaconda3/envs/insight/lib/python3.6/site-packages/msgpack_numpy.py:84: DeprecationWarning: The binary mode of fromstring is deprecated, as it behaves surprisingly on unicode inputs. Use frombuffer instead\n",
      "  dtype=np.dtype(descr)).reshape(obj[b'shape'])\n",
      "/home/ceddie/anaconda3/envs/insight/lib/python3.6/site-packages/msgpack_numpy.py:88: DeprecationWarning: The binary mode of fromstring is deprecated, as it behaves surprisingly on unicode inputs. Use frombuffer instead\n",
      "  dtype=np.dtype(descr))[0]\n",
      "/home/ceddie/anaconda3/envs/insight/lib/python3.6/site-packages/msgpack_numpy.py:84: DeprecationWarning: The binary mode of fromstring is deprecated, as it behaves surprisingly on unicode inputs. Use frombuffer instead\n",
      "  dtype=np.dtype(descr)).reshape(obj[b'shape'])\n",
      "/home/ceddie/anaconda3/envs/insight/lib/python3.6/site-packages/msgpack_numpy.py:84: DeprecationWarning: The binary mode of fromstring is deprecated, as it behaves surprisingly on unicode inputs. Use frombuffer instead\n",
      "  dtype=np.dtype(descr)).reshape(obj[b'shape'])\n",
      "/home/ceddie/anaconda3/envs/insight/lib/python3.6/site-packages/msgpack_numpy.py:84: DeprecationWarning: The binary mode of fromstring is deprecated, as it behaves surprisingly on unicode inputs. Use frombuffer instead\n",
      "  dtype=np.dtype(descr)).reshape(obj[b'shape'])\n",
      "/home/ceddie/anaconda3/envs/insight/lib/python3.6/site-packages/msgpack_numpy.py:84: DeprecationWarning: The binary mode of fromstring is deprecated, as it behaves surprisingly on unicode inputs. Use frombuffer instead\n",
      "  dtype=np.dtype(descr)).reshape(obj[b'shape'])\n"
     ]
    },
    {
     "name": "stderr",
     "output_type": "stream",
     "text": [
      "/home/ceddie/anaconda3/envs/insight/lib/python3.6/site-packages/msgpack_numpy.py:84: DeprecationWarning: The binary mode of fromstring is deprecated, as it behaves surprisingly on unicode inputs. Use frombuffer instead\n",
      "  dtype=np.dtype(descr)).reshape(obj[b'shape'])\n",
      "/home/ceddie/anaconda3/envs/insight/lib/python3.6/site-packages/msgpack_numpy.py:88: DeprecationWarning: The binary mode of fromstring is deprecated, as it behaves surprisingly on unicode inputs. Use frombuffer instead\n",
      "  dtype=np.dtype(descr))[0]\n",
      "/home/ceddie/anaconda3/envs/insight/lib/python3.6/site-packages/msgpack_numpy.py:84: DeprecationWarning: The binary mode of fromstring is deprecated, as it behaves surprisingly on unicode inputs. Use frombuffer instead\n",
      "  dtype=np.dtype(descr)).reshape(obj[b'shape'])\n",
      "/home/ceddie/anaconda3/envs/insight/lib/python3.6/site-packages/msgpack_numpy.py:88: DeprecationWarning: The binary mode of fromstring is deprecated, as it behaves surprisingly on unicode inputs. Use frombuffer instead\n",
      "  dtype=np.dtype(descr))[0]\n",
      "/home/ceddie/anaconda3/envs/insight/lib/python3.6/site-packages/msgpack_numpy.py:84: DeprecationWarning: The binary mode of fromstring is deprecated, as it behaves surprisingly on unicode inputs. Use frombuffer instead\n",
      "  dtype=np.dtype(descr)).reshape(obj[b'shape'])\n",
      "/home/ceddie/anaconda3/envs/insight/lib/python3.6/site-packages/msgpack_numpy.py:84: DeprecationWarning: The binary mode of fromstring is deprecated, as it behaves surprisingly on unicode inputs. Use frombuffer instead\n",
      "  dtype=np.dtype(descr)).reshape(obj[b'shape'])\n",
      "/home/ceddie/anaconda3/envs/insight/lib/python3.6/site-packages/msgpack_numpy.py:88: DeprecationWarning: The binary mode of fromstring is deprecated, as it behaves surprisingly on unicode inputs. Use frombuffer instead\n",
      "  dtype=np.dtype(descr))[0]\n",
      "/home/ceddie/anaconda3/envs/insight/lib/python3.6/site-packages/msgpack_numpy.py:84: DeprecationWarning: The binary mode of fromstring is deprecated, as it behaves surprisingly on unicode inputs. Use frombuffer instead\n",
      "  dtype=np.dtype(descr)).reshape(obj[b'shape'])\n"
     ]
    }
   ],
   "source": [
    "nlp = spacy.load('en')"
   ]
  },
  {
   "cell_type": "code",
   "execution_count": 18,
   "metadata": {},
   "outputs": [],
   "source": [
    "# removes punctuation and white space. Then lemmatize\n",
    "def tokenizer(doc):\n",
    "    return [w.lemma_ for w in nlp(doc) if (not w.is_punct | w.is_space) ]\n",
    "# return [w.lemma_ for w in nlp(doc) if (not w.is_punct | w.is_space) & (w.pos_ in ['NOUN', 'ADJ', 'ADV']) ]"
   ]
  },
  {
   "cell_type": "markdown",
   "metadata": {},
   "source": [
    "### Possible Pipeline for award amount prediction"
   ]
  },
  {
   "cell_type": "markdown",
   "metadata": {},
   "source": [
    "### Tf-idf + Spacy"
   ]
  },
  {
   "cell_type": "code",
   "execution_count": null,
   "metadata": {},
   "outputs": [],
   "source": [
    "lass_reg = Pipeline([('tfidf', TfidfVectorizer(\n",
    "                        min_df = 0.01,\n",
    "                        max_df = 0.8,\n",
    "                        ngram_range=(1, 2),\n",
    "                        stop_words = sw,\n",
    "                        tokenizer = tokenizer,\n",
    "                        lowercase = True,\n",
    "                        strip_accents = 'unicode',\n",
    "#                         token_pattern = r'(?u)\\b[a-zA-Z][a-zA-Z]+\\b',\n",
    "                        binary = False,\n",
    "                        )),\n",
    "                      ('reg', Lasso(fit_intercept=False)),\n",
    "                     ])\n",
    "\n",
    "parameters = {'tfidf__ngram_range': [(1, 2)],\n",
    "              'tfidf__min_df': [0.01],\n",
    "              'tfidf__use_idf': [True],\n",
    "              'tfidf__binary': [True, False],\n",
    "              'reg__alpha': [0.3, 1],\n",
    "             }\n",
    "\n",
    "# set up grid search using all of my cores\n",
    "# I believe R^2 is the default scorer for Lasso\n",
    "gs_reg = GridSearchCV(lass_reg, param_grid = parameters,\\\n",
    "                      scoring='neg_mean_squared_error',\\\n",
    "                      cv = 5 , n_jobs=-1, verbose=1)"
   ]
  },
  {
   "cell_type": "markdown",
   "metadata": {},
   "source": [
    "### Tf-idf + nltk"
   ]
  },
  {
   "cell_type": "code",
   "execution_count": null,
   "metadata": {},
   "outputs": [],
   "source": [
    "lass_reg = Pipeline([('tfidf', uv.CustomTfidfVectorizer(\n",
    "                            stop_words = sw,\n",
    "                            lowercase = True,\n",
    "                            strip_accents = 'unicode',\n",
    "                            token_pattern = r'(?u)\\b[a-zA-Z][a-zA-Z]+\\b',\n",
    "                            max_features = 2000)),\n",
    "                      ('reg', Lasso(fit_intercept=False)),\n",
    "                     ])\n",
    "\n",
    "parameters = {'tfidf__ngram_range': [(1, 2)],\n",
    "              'tfidf__min_df': [3],\n",
    "              'tfidf__use_idf': [True],\n",
    "              'tfidf__binary': [True, False],\n",
    "              'reg__alpha': [0.3, 1],\n",
    "             }\n",
    "\n",
    "# set up grid search using all of my cores\n",
    "# I believe R^2 is the default scorer for Lasso\n",
    "gs_reg = GridSearchCV(lass_reg, param_grid = parameters,\\\n",
    "                      scoring='neg_mean_squared_error',\\\n",
    "                      cv = 5 , n_jobs=-1, verbose=1)"
   ]
  },
  {
   "cell_type": "markdown",
   "metadata": {},
   "source": [
    "## Loop over each Agency and create one model per agency"
   ]
  },
  {
   "cell_type": "code",
   "execution_count": null,
   "metadata": {
    "scrolled": false
   },
   "outputs": [],
   "source": [
    "scores = {}\n",
    "\n",
    "\n",
    "for ag in agency:\n",
    "    \n",
    "    print('Modeling {}'.format(ag))\n",
    "    # discard 0 amount, N/A abstract. Agency shall not be missing and only consider Phase I\n",
    "    crit = (df.agency_abbr == ag) & (df.Phase == 'Phase I')\n",
    "    df_analysis = df.loc[crit,:].copy()\n",
    "\n",
    "    # concatenate abstract and title\n",
    "    df_analysis['text'] = df_analysis.Abstract.add(df_analysis.title, fill_value = '')\n",
    "    print(df_analysis.shape)\n",
    "    df_analysis.tail()\n",
    "\n",
    "    # split documents in train/test, labels are optional here. It turns out we know them.\n",
    "    train_docs, test_docs, y_train_docs, y_test_docs = train_test_split( df_analysis.text,\n",
    "                                        df_analysis.amount_corrected,\n",
    "                                        test_size = 0.2,\n",
    "                                        random_state = 7,\n",
    "                                        stratify = df_analysis['Awards Year'])\n",
    "\n",
    "    # retrieve train values\n",
    "    X_train = train_docs.values\n",
    "    y_train = y_train_docs.values\n",
    "\n",
    "    # retrieve test values\n",
    "    X_test = test_docs.values\n",
    "    y_test = y_test_docs.values\n",
    "\n",
    "    print(X_train.shape, X_test.shape)\n",
    "\n",
    "    lass_reg = Pipeline([('tfidf', uv.CustomTfidfVectorizer(\n",
    "                                stop_words = 'english',\n",
    "                                lowercase = True,\n",
    "                                strip_accents = 'unicode',\n",
    "                                token_pattern = r'(?u)\\b[a-zA-Z][a-zA-Z]+\\b',\n",
    "                                max_features = 2000)),\n",
    "                          ('reg', Lasso()),\n",
    "                         ])\n",
    "\n",
    "    parameters = {'tfidf__ngram_range': [(1, 2)],\n",
    "                  'tfidf__min_df': [3],\n",
    "                  'tfidf__use_idf': [True],\n",
    "                  'tfidf__binary': [True],\n",
    "                  'reg__alpha': [1],\n",
    "                 }\n",
    "\n",
    "    # set up grid search using all of my cores\n",
    "    # I believe R^2 is the default scorer for Lasso\n",
    "    gs_reg = GridSearchCV(lass_reg, param_grid = parameters,\\\n",
    "                          scoring='neg_mean_squared_error',\\\n",
    "                          cv = 5 , n_jobs=-1, verbose=1)\n",
    "\n",
    "    # perform grid search CV on pipeline\n",
    "    _ = gs_reg.fit(X_train, y_train)\n",
    "\n",
    "    print(gs_reg.best_params_)\n",
    "\n",
    "    # training set score\n",
    "    print('Train score = ', gs_reg.score(X_train, y_train))\n",
    "    # test set score\n",
    "    print('Test score = ', gs_reg.score(X_test, y_test))\n",
    "\n",
    "    # training set score\n",
    "    y_train_pred = gs_reg.predict(X_train)\n",
    "    r2_train = r2_score(y_train, y_train_pred)\n",
    "    print('Train score = ', r2_train)\n",
    "\n",
    "    # test set score\n",
    "    y_test_pred = gs_reg.predict(X_test)\n",
    "    r2_test = r2_score(y_test, y_test_pred)\n",
    "    print('Test score = ', r2_test)\n",
    "\n",
    "    # record scores\n",
    "    scores[ag] = [r2_train, r2_test]\n",
    "\n",
    "    # pickle model\n",
    "    joblib.dump(gs_reg, os.path.join(os.pardir,'models', ''.join([ag, '.pkl']) ) )"
   ]
  },
  {
   "cell_type": "code",
   "execution_count": null,
   "metadata": {},
   "outputs": [],
   "source": []
  },
  {
   "cell_type": "code",
   "execution_count": null,
   "metadata": {},
   "outputs": [],
   "source": []
  },
  {
   "cell_type": "code",
   "execution_count": null,
   "metadata": {},
   "outputs": [],
   "source": []
  },
  {
   "cell_type": "code",
   "execution_count": null,
   "metadata": {},
   "outputs": [],
   "source": []
  }
 ],
 "metadata": {
  "kernelspec": {
   "display_name": "Python [default]",
   "language": "python",
   "name": "python3"
  },
  "language_info": {
   "codemirror_mode": {
    "name": "ipython",
    "version": 3
   },
   "file_extension": ".py",
   "mimetype": "text/x-python",
   "name": "python",
   "nbconvert_exporter": "python",
   "pygments_lexer": "ipython3",
   "version": "3.6.5"
  }
 },
 "nbformat": 4,
 "nbformat_minor": 2
}
