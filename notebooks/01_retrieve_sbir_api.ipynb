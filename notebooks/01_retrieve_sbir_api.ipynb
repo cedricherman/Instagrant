{
 "cells": [
  {
   "cell_type": "code",
   "execution_count": 1,
   "metadata": {
    "nbpresent": {
     "id": "ccd2481f-3bd1-44b5-b062-641c4f2d53ec"
    }
   },
   "outputs": [],
   "source": [
    "import requests\n",
    "import os\n",
    "import json"
   ]
  },
  {
   "cell_type": "markdown",
   "metadata": {
    "nbpresent": {
     "id": "7757a429-1ff3-4684-b123-06dc8d872f85"
    }
   },
   "source": [
    "# Experimenting"
   ]
  },
  {
   "cell_type": "markdown",
   "metadata": {},
   "source": [
    "API documentation is [here](https://www.sbir.gov/api)"
   ]
  },
  {
   "cell_type": "code",
   "execution_count": 2,
   "metadata": {
    "nbpresent": {
     "id": "2b90abd9-268a-4b66-9df0-085308611333"
    }
   },
   "outputs": [],
   "source": [
    "# construct url, protocol, entryPoint, ressource, FlowRef\n",
    "# https://www.sbir.gov/api/awards.xml?keyword=mars&agency=DOE&year=2010\n",
    "url = 'https://www.sbir.gov/api/awards.json'\n",
    "# headers = {'Accept': 'application/json'}\n",
    "params = {'keyword': 'mars', 'agency': 'DOE', 'year': 2010}\n",
    "\n",
    "# r = requests.get(url, headers = headers, params = params)\n",
    "r = requests.get(url, params = params)"
   ]
  },
  {
   "cell_type": "code",
   "execution_count": 3,
   "metadata": {
    "nbpresent": {
     "id": "36582b02-0072-4272-8e49-a2557e3dd894"
    }
   },
   "outputs": [
    {
     "data": {
      "text/plain": [
       "200"
      ]
     },
     "execution_count": 3,
     "metadata": {},
     "output_type": "execute_result"
    }
   ],
   "source": [
    "r.status_code"
   ]
  },
  {
   "cell_type": "code",
   "execution_count": 4,
   "metadata": {
    "nbpresent": {
     "id": "8b823166-1439-49f0-80e6-df7162458b74"
    }
   },
   "outputs": [
    {
     "data": {
      "text/plain": [
       "{'Date': 'Mon, 11 Jun 2018 04:29:33 GMT', 'Content-Type': 'application/json', 'Content-Length': '3885', 'Connection': 'keep-alive', 'Server': 'Apache', 'Strict-Transport-Security': 'max-age=31536000; includeSubDomains; preload', 'X-Content-Type-Options': 'nosniff, nosniff', 'X-Drupal-Cache': 'MISS', 'Expires': 'Sun, 19 Nov 1978 05:00:00 GMT', 'Cache-Control': 'public, max-age=600', 'Etag': '\"1528691373-1\"', 'Last-Modified': 'Mon, 11 Jun 2018 04:29:33 GMT', 'Vary': 'Cookie,Accept-Encoding', 'Content-Encoding': 'gzip'}"
      ]
     },
     "execution_count": 4,
     "metadata": {},
     "output_type": "execute_result"
    }
   ],
   "source": [
    "r.headers"
   ]
  },
  {
   "cell_type": "code",
   "execution_count": 8,
   "metadata": {
    "nbpresent": {
     "id": "92f6832e-8f5b-44cb-89ce-cb4a833d1b8c"
    }
   },
   "outputs": [
    {
     "data": {
      "text/plain": [
       "bytes"
      ]
     },
     "execution_count": 8,
     "metadata": {},
     "output_type": "execute_result"
    }
   ],
   "source": [
    "type(r.content)"
   ]
  },
  {
   "cell_type": "code",
   "execution_count": 12,
   "metadata": {
    "nbpresent": {
     "id": "77ddba04-58b7-40c1-bbd0-370e6ad3c99e"
    }
   },
   "outputs": [],
   "source": [
    "output_dir = os.path.join(os.pardir,'data', 'raw', 'sample.json')\n",
    "with open(output_dir, \"wb\") as f:\n",
    "    f.write(r.content)"
   ]
  },
  {
   "cell_type": "code",
   "execution_count": 15,
   "metadata": {
    "nbpresent": {
     "id": "fee602c4-42c9-412c-bbdd-047f6895c7e1"
    }
   },
   "outputs": [],
   "source": [
    "with open(output_dir, \"r\") as f:\n",
    "    text = json.load(f)"
   ]
  },
  {
   "cell_type": "code",
   "execution_count": null,
   "metadata": {},
   "outputs": [],
   "source": []
  },
  {
   "cell_type": "code",
   "execution_count": null,
   "metadata": {},
   "outputs": [],
   "source": []
  }
 ],
 "metadata": {
  "kernelspec": {
   "display_name": "Python [default]",
   "language": "python",
   "name": "python3"
  },
  "language_info": {
   "codemirror_mode": {
    "name": "ipython",
    "version": 3
   },
   "file_extension": ".py",
   "mimetype": "text/x-python",
   "name": "python",
   "nbconvert_exporter": "python",
   "pygments_lexer": "ipython3",
   "version": "3.6.5"
  }
 },
 "nbformat": 4,
 "nbformat_minor": 2
}
