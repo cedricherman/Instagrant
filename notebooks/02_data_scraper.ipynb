{
 "cells": [
  {
   "cell_type": "markdown",
   "metadata": {},
   "source": [
    "# Data available through the API is not complete!\n",
    "However, we have a web link for each award in our json data. We can use to scrape the rest! <br>\n",
    "Some missing values are marked N/A or unavailable"
   ]
  },
  {
   "cell_type": "code",
   "execution_count": 1,
   "metadata": {},
   "outputs": [],
   "source": [
    "import requests\n",
    "import os\n",
    "import json\n",
    "import glob\n",
    "import pandas as pd\n",
    "from bs4 import BeautifulSoup"
   ]
  },
  {
   "cell_type": "code",
   "execution_count": 3,
   "metadata": {},
   "outputs": [],
   "source": [
    "one_file_dir = os.path.join(os.pardir,'data', 'raw', '1996.json')"
   ]
  },
  {
   "cell_type": "markdown",
   "metadata": {},
   "source": [
    "json library is faster than using pandas"
   ]
  },
  {
   "cell_type": "code",
   "execution_count": 4,
   "metadata": {},
   "outputs": [],
   "source": [
    "# # %%timeit\n",
    "# df_year = pd.read_json(one_file_dir)\n",
    "# award_links = df_year.link.tolist()"
   ]
  },
  {
   "cell_type": "code",
   "execution_count": 62,
   "metadata": {},
   "outputs": [
    {
     "name": "stdout",
     "output_type": "stream",
     "text": [
      "CPU times: user 11 µs, sys: 1e+03 ns, total: 12 µs\n",
      "Wall time: 21.5 µs\n"
     ]
    }
   ],
   "source": [
    "# %%timeit\n",
    "with open(one_file_dir) as f:\n",
    "    year = json.load(f)\n",
    "award_links = [y.get('link') for y in year]"
   ]
  },
  {
   "cell_type": "markdown",
   "metadata": {},
   "source": [
    "# Experimenting"
   ]
  },
  {
   "cell_type": "code",
   "execution_count": 5,
   "metadata": {},
   "outputs": [
    {
     "data": {
      "text/plain": [
       "'https://www.sbir.gov/sbirsearch/detail/814223'"
      ]
     },
     "execution_count": 5,
     "metadata": {},
     "output_type": "execute_result"
    }
   ],
   "source": [
    "link = award_links[0]\n",
    "link"
   ]
  },
  {
   "cell_type": "code",
   "execution_count": 6,
   "metadata": {},
   "outputs": [],
   "source": [
    "# scrape more data\n",
    "# r = requests.get(award_links[0])\n",
    "r = requests.get(link)"
   ]
  },
  {
   "cell_type": "code",
   "execution_count": 7,
   "metadata": {},
   "outputs": [
    {
     "data": {
      "text/plain": [
       "200"
      ]
     },
     "execution_count": 7,
     "metadata": {},
     "output_type": "execute_result"
    }
   ],
   "source": [
    "r.status_code"
   ]
  },
  {
   "cell_type": "code",
   "execution_count": 19,
   "metadata": {},
   "outputs": [
    {
     "data": {
      "text/plain": [
       "{'Date': 'Wed, 13 Jun 2018 12:28:51 GMT', 'Content-Type': 'text/html; charset=utf-8', 'Transfer-Encoding': 'chunked', 'Connection': 'keep-alive', 'Server': 'Apache', 'Strict-Transport-Security': 'max-age=31536000; includeSubDomains; preload', 'X-Content-Type-Options': 'nosniff, nosniff', 'X-Drupal-Cache': 'MISS', 'Expires': 'Sun, 19 Nov 1978 05:00:00 GMT', 'Cache-Control': 'public, max-age=600', 'Content-Language': 'en', 'X-Frame-Options': 'SAMEORIGIN', 'Etag': '\"1528892931-1\"', 'Last-Modified': 'Wed, 13 Jun 2018 12:28:51 GMT', 'Vary': 'Cookie,Accept-Encoding', 'Content-Encoding': 'gzip'}"
      ]
     },
     "execution_count": 19,
     "metadata": {},
     "output_type": "execute_result"
    }
   ],
   "source": [
    "r.headers"
   ]
  },
  {
   "cell_type": "code",
   "execution_count": 20,
   "metadata": {},
   "outputs": [],
   "source": [
    "input_soup = BeautifulSoup(r.content, 'html5lib')"
   ]
  },
  {
   "cell_type": "code",
   "execution_count": 21,
   "metadata": {},
   "outputs": [
    {
     "data": {
      "text/plain": [
       "<!DOCTYPE html>\n",
       "<html dir=\"ltr\" lang=\"en\" prefix=\"content: http://purl.org/rss/1.0/modules/content/ dc: http://purl.org/dc/terms/ foaf: http://xmlns.com/foaf/0.1/ og: http://ogp.me/ns# rdfs: http://www.w3.org/2000/01/rdf-schema# sioc: http://rdfs.org/sioc/ns# sioct: http://rdfs.org/sioc/types# skos: http://www.w3.org/2004/02/skos/core# xsd: http://www.w3.org/2001/XMLSchema#\"><head>\n",
       "  <link href=\"http://www.w3.org/1999/xhtml/vocab\" rel=\"profile\"/>\n",
       "  <meta content=\"width=device-width, initial-scale=1.0\" name=\"viewport\"/>\n",
       "  <!--[if IE]><![endif]-->\n",
       "<meta content=\"IE=edge\" http-equiv=\"X-UA-Compatible\"/>\n",
       "<meta content=\"text/html; charset=utf-8\" http-equiv=\"Content-Type\"/>\n",
       "<link href=\"https://www.sbir.gov/sites/all/themes/sbir/favicon.png\" rel=\"shortcut icon\" type=\"image/png\"/>\n",
       "<meta content=\"always\" name=\"referrer\"/>\n",
       "  <title>Novel Dopant Strategies for the Development of Submicron PZT Ceramics | SBIR.gov</title>\n",
       "  <link href=\"/sites/default/files/advagg_css/css__1X0zSbp3a6upgwmFDVMw3bKkE6nVDQ5AULLdnNH7IDs__A-OSHaxYxsGQoZdTZsUZra-eeSHI4I5x6xM0wLOPosQ__kje5jNsaJMHj4r34eabTnz56zqxUA6mWU9nFnxKCQmc.css\" media=\"all\" rel=\"stylesheet\" type=\"text/css\"/>\n",
       "<link href=\"/sites/default/files/advagg_css/css__BmTGhDnj3U74ziGto-osITddcuqUFVUQkmZsc5gmA7E__b5CJl_6yrgRjX6auG3aMVXXTD4z3Lhzjq_CKBlbUJts__kje5jNsaJMHj4r34eabTnz56zqxUA6mWU9nFnxKCQmc.css\" media=\"print\" rel=\"stylesheet\" type=\"text/css\"/>\n",
       "  <!-- HTML5 element support for IE6-8 -->\n",
       "  <!--[if lt IE 9]>\n",
       "    <script src=\"https://cdn.jsdelivr.net/html5shiv/3.7.3/html5shiv-printshiv.min.js\"></script>\n",
       "  <![endif]-->\n",
       "  <script src=\"/sites/all/libraries/modernizr/modernizr-custom.js?pa8bc3\" type=\"text/javascript\"></script>\n",
       "<script src=\"/sites/default/files/advagg_js/js__ugBkKBfd53XGRJQL0taSsJ4H14sWozKmvbbXr8L0V80__IbdPBQuPnwO4QK045TMXE7ie2s3hBQ6VbknMRzoUPAQ__kje5jNsaJMHj4r34eabTnz56zqxUA6mWU9nFnxKCQmc.js\" type=\"text/javascript\"></script>\n",
       "<script type=\"text/javascript\">\n",
       "<!--//--><![CDATA[//><!--\n",
       "(function(i,s,o,g,r,a,m){i[\"GoogleAnalyticsObject\"]=r;i[r]=i[r]||function(){(i[r].q=i[r].q||[]).push(arguments)},i[r].l=1*new Date();a=s.createElement(o),m=s.getElementsByTagName(o)[0];a.async=1;a.src=g;m.parentNode.insertBefore(a,m)})(window,document,\"script\",\"https://www.google-analytics.com/analytics.js\",\"ga\");ga(\"create\", \"UA-17367410-25\", {\"cookieDomain\":\"auto\"});ga(\"set\", \"anonymizeIp\", true);ga(\"send\", \"pageview\");ga('set', 'forceSSL', true);\n",
       "//--><!]]>\n",
       "</script>\n",
       "<script src=\"/sites/default/files/advagg_js/js__LaIENUuKYYMG-7qnQWcDRw7BX0BB1ILYamPzXnjdIJQ__VaLJbieAujZ5AG_Ga8L72XUB5Ki0t7uLed_yKoZfGRY__kje5jNsaJMHj4r34eabTnz56zqxUA6mWU9nFnxKCQmc.js\" type=\"text/javascript\"></script>\n",
       "<script type=\"text/javascript\">\n",
       "<!--//--><![CDATA[//><!--\n",
       "jQuery.extend(Drupal.settings, {\"basePath\":\"\\/\",\"pathPrefix\":\"\",\"ajaxPageState\":{\"theme\":\"sbir\",\"theme_token\":\"xeJP8ENl4PuyoIa4X83s9eIasFt9i7JDwyNm4hr4N9U\",\"css\":{\"modules\\/system\\/system.base.css\":1,\"sites\\/all\\/modules\\/contrib\\/views_slideshow\\/views_slideshow.css\":1,\"sites\\/all\\/modules\\/contrib\\/calendar\\/css\\/calendar_multiday.css\":1,\"sites\\/all\\/modules\\/contrib\\/date\\/date_api\\/date.css\":1,\"sites\\/all\\/modules\\/contrib\\/date\\/date_popup\\/themes\\/datepicker.1.7.css\":1,\"sites\\/all\\/modules\\/contrib\\/date\\/date_repeat_field\\/date_repeat_field.css\":1,\"modules\\/field\\/theme\\/field.css\":1,\"modules\\/node\\/node.css\":1,\"sites\\/all\\/modules\\/contrib\\/extlink\\/extlink.css\":1,\"sites\\/all\\/modules\\/contrib\\/views\\/css\\/views.css\":1,\"sites\\/all\\/modules\\/contrib\\/media\\/modules\\/media_wysiwyg\\/css\\/media_wysiwyg.base.css\":1,\"sites\\/all\\/modules\\/custom\\/sbir_sba_dash_blocks\\/css\\/manage_agencies_block_styles.css\":1,\"sites\\/all\\/modules\\/contrib\\/ctools\\/css\\/ctools.css\":1,\"sites\\/all\\/modules\\/contrib\\/panels\\/css\\/panels.css\":1,\"sites\\/all\\/modules\\/custom\\/sbir_sbc_user\\/sbir_sbc_user.css\":1,\"sites\\/all\\/modules\\/contrib\\/views_slideshow\\/contrib\\/views_slideshow_cycle\\/views_slideshow_cycle.css\":1,\"sites\\/all\\/modules\\/contrib\\/print\\/print_ui\\/css\\/print_ui.theme.css\":1,\"sites\\/all\\/themes\\/sbir\\/css\\/style.css\":1,\"sites\\/all\\/themes\\/sbir\\/bootstrap\\/css\\/bootstrap.css\":1,\"sites\\/all\\/themes\\/sbir\\/css\\/animate.css\":1,\"sites\\/all\\/themes\\/sbir\\/css\\/font-awesome.min.css\":1,\"sites\\/all\\/themes\\/sbir\\/css\\/printer-friendly.css\":1},\"js\":{\"sites\\/all\\/themes\\/bootstrap\\/js\\/bootstrap.js\":1,\"sites\\/all\\/libraries\\/modernizr\\/modernizr-custom.js\":1,\"sites\\/all\\/modules\\/contrib\\/jquery_update\\/replace\\/jquery\\/1.9\\/jquery.min.js\":1,\"misc\\/jquery.once.js\":1,\"misc\\/drupal.js\":1,\"sites\\/all\\/modules\\/contrib\\/equalheights\\/jquery.equalheights.js\":1,\"sites\\/all\\/modules\\/contrib\\/views_slideshow\\/js\\/views_slideshow.js\":1,\"misc\\/form.js\":1,\"sites\\/all\\/modules\\/contrib\\/equalheights\\/equalheights.js\":1,\"sites\\/all\\/modules\\/contrib\\/extlink\\/extlink.js\":1,\"sites\\/all\\/themes\\/bootstrap\\/js\\/misc\\/_collapse.js\":1,\"sites\\/all\\/modules\\/custom\\/sbir_sbc\\/sbc_company_edit.js\":1,\"sites\\/all\\/modules\\/custom\\/sbir_sbc_user\\/sbir_sbc_user.js\":1,\"sites\\/all\\/libraries\\/jquery.cycle\\/jquery.cycle.all.js\":1,\"sites\\/all\\/modules\\/contrib\\/views_slideshow\\/contrib\\/views_slideshow_cycle\\/js\\/views_slideshow_cycle.js\":1,\"sites\\/all\\/libraries\\/imagesloaded\\/jquery.imagesloaded.js\":1,\"sites\\/all\\/modules\\/contrib\\/google_analytics\\/googleanalytics.js\":1,\"sites\\/all\\/themes\\/sbir\\/bootstrap\\/js\\/bootstrap.min.js\":1,\"sites\\/all\\/themes\\/sbir\\/js\\/custom.js\":1,\"sites\\/all\\/themes\\/sbir\\/js\\/jquery.placeholder.min.js\":1}},\"urlIsAjaxTrusted\":{\"\\/sbirsearch\\/detail\\/814223\":true},\"viewsSlideshow\":{\"success_stories-block_1\":{\"methods\":{\"goToSlide\":[\"viewsSlideshowPager\",\"viewsSlideshowSlideCounter\",\"viewsSlideshowCycle\"],\"nextSlide\":[\"viewsSlideshowPager\",\"viewsSlideshowSlideCounter\",\"viewsSlideshowCycle\"],\"pause\":[\"viewsSlideshowControls\",\"viewsSlideshowCycle\"],\"play\":[\"viewsSlideshowControls\",\"viewsSlideshowCycle\"],\"previousSlide\":[\"viewsSlideshowPager\",\"viewsSlideshowSlideCounter\",\"viewsSlideshowCycle\"],\"transitionBegin\":[\"viewsSlideshowPager\",\"viewsSlideshowSlideCounter\"],\"transitionEnd\":[]},\"paused\":0},\"events-block_2_1\":{\"methods\":{\"goToSlide\":[\"viewsSlideshowPager\",\"viewsSlideshowSlideCounter\",\"viewsSlideshowCycle\"],\"nextSlide\":[\"viewsSlideshowPager\",\"viewsSlideshowSlideCounter\",\"viewsSlideshowCycle\"],\"pause\":[\"viewsSlideshowControls\",\"viewsSlideshowCycle\"],\"play\":[\"viewsSlideshowControls\",\"viewsSlideshowCycle\"],\"previousSlide\":[\"viewsSlideshowPager\",\"viewsSlideshowSlideCounter\",\"viewsSlideshowCycle\"],\"transitionBegin\":[\"viewsSlideshowPager\",\"viewsSlideshowSlideCounter\"],\"transitionEnd\":[]},\"paused\":0}},\"viewsSlideshowPager\":{\"success_stories-block_1\":{\"bottom\":{\"type\":\"viewsSlideshowPagerFields\",\"master_pager\":\"0\"}},\"events-block_2_1\":{\"bottom\":{\"type\":\"viewsSlideshowPagerFields\",\"master_pager\":\"0\"}}},\"viewsSlideshowPagerFields\":{\"success_stories-block_1\":{\"bottom\":{\"activatePauseOnHover\":0}},\"events-block_2_1\":{\"bottom\":{\"activatePauseOnHover\":0}}},\"viewsSlideshowCycle\":{\"#views_slideshow_cycle_main_success_stories-block_1\":{\"num_divs\":6,\"id_prefix\":\"#views_slideshow_cycle_main_\",\"div_prefix\":\"#views_slideshow_cycle_div_\",\"vss_id\":\"success_stories-block_1\",\"effect\":\"fade\",\"transition_advanced\":0,\"timeout\":5000,\"speed\":700,\"delay\":0,\"sync\":1,\"random\":0,\"pause\":1,\"pause_on_click\":0,\"play_on_hover\":0,\"action_advanced\":0,\"start_paused\":0,\"remember_slide\":0,\"remember_slide_days\":1,\"pause_in_middle\":0,\"pause_when_hidden\":0,\"pause_when_hidden_type\":\"full\",\"amount_allowed_visible\":\"\",\"nowrap\":0,\"pause_after_slideshow\":0,\"fixed_height\":1,\"items_per_slide\":1,\"wait_for_image_load\":1,\"wait_for_image_load_timeout\":3000,\"cleartype\":0,\"cleartypenobg\":0,\"advanced_options\":\"{}\"},\"#views_slideshow_cycle_main_events-block_2_1\":{\"num_divs\":5,\"id_prefix\":\"#views_slideshow_cycle_main_\",\"div_prefix\":\"#views_slideshow_cycle_div_\",\"vss_id\":\"events-block_2_1\",\"effect\":\"fade\",\"transition_advanced\":0,\"timeout\":5000,\"speed\":700,\"delay\":0,\"sync\":1,\"random\":0,\"pause\":1,\"pause_on_click\":0,\"play_on_hover\":0,\"action_advanced\":0,\"start_paused\":0,\"remember_slide\":0,\"remember_slide_days\":1,\"pause_in_middle\":0,\"pause_when_hidden\":0,\"pause_when_hidden_type\":\"full\",\"amount_allowed_visible\":\"\",\"nowrap\":0,\"pause_after_slideshow\":0,\"fixed_height\":1,\"items_per_slide\":1,\"wait_for_image_load\":1,\"wait_for_image_load_timeout\":3000,\"cleartype\":0,\"cleartypenobg\":0,\"advanced_options\":\"{}\"}},\"better_exposed_filters\":{\"views\":{\"success_stories\":{\"displays\":{\"block\":{\"filters\":[]}}},\"events\":{\"displays\":{\"block_2\":{\"filters\":[]}}}}},\"equalHeightsModule\":{\"classes\":[{\"selector\":\".section .view, .section-2 .view, .equal, .social-tabs-wrapper\",\"mediaquery\":\"(min-width: 768px)\",\"minheight\":\"\",\"maxheight\":\"\",\"overflow\":\"visible\"},{\"selector\":\".meta-title, .meta-description\",\"mediaquery\":\"\",\"minheight\":\"\",\"maxheight\":\"\",\"overflow\":\"visible\"},{\"selector\":\".market-cell-inner\",\"mediaquery\":\"\",\"minheight\":\"\",\"maxheight\":\"\",\"overflow\":\"visible\"},{\"selector\":\".view-display-id-agency_agency_contact .view-content, .view-display-id-agency_success_stories .view-content, .view-display-id-agency_profile .view-content, .misc-block\",\"mediaquery\":\"\",\"minheight\":\"\",\"maxheight\":\"\",\"overflow\":\"auto\"},{\"selector\":\".view-display-id-sbc_comp_prof .view-content, .view-display-id-sbc_my_docs .view-content\",\"mediaquery\":\"\",\"minheight\":\"\",\"maxheight\":\"\",\"overflow\":\"auto\"},{\"selector\":\".are-equal\",\"mediaquery\":\"\",\"minheight\":\"\",\"maxheight\":\"\",\"overflow\":\"auto\"},{\"selector\":\".are-equal-2\",\"mediaquery\":\"\",\"minheight\":\"\",\"maxheight\":\"\",\"overflow\":\"auto\"},{\"selector\":\".are-equal-0\",\"mediaquery\":\"\",\"minheight\":\"\",\"maxheight\":\"\",\"overflow\":\"auto\"}],\"imagesloaded_ie8\":0},\"extlink\":{\"extTarget\":0,\"extClass\":\"ext\",\"extLabel\":\"(link is external)\",\"extImgClass\":0,\"extIconPlacement\":\"append\",\"extSubdomains\":1,\"extExclude\":\"sbir\\\\.gov\",\"extInclude\":\"\",\"extCssExclude\":\"\",\"extCssExplicit\":\"\",\"extAlert\":0,\"extAlertText\":\"This link will take you to an external web site.\",\"mailtoClass\":\"mailto\",\"mailtoLabel\":\"(link sends e-mail)\"},\"googleanalytics\":{\"trackOutbound\":1,\"trackMailto\":1,\"trackDownload\":1,\"trackDownloadExtensions\":\"7z|aac|arc|arj|asf|asx|avi|bin|csv|doc(x|m)?|dot(x|m)?|exe|flv|gif|gz|gzip|hqx|jar|jpe?g|js|mp(2|3|4|e?g)|mov(ie)?|msi|msp|pdf|phps|png|ppt(x|m)?|pot(x|m)?|pps(x|m)?|ppam|sld(x|m)?|thmx|qtm?|ra(m|r)?|sea|sit|tar|tgz|torrent|txt|wav|wma|wmv|wpd|xls(x|m|b)?|xlt(x|m)|xlam|xml|z|zip\"},\"bootstrap\":{\"anchorsFix\":0,\"anchorsSmoothScrolling\":0,\"formHasError\":1,\"popoverEnabled\":1,\"popoverOptions\":{\"animation\":1,\"html\":0,\"placement\":\"right\",\"selector\":\"\",\"trigger\":\"click\",\"triggerAutoclose\":1,\"title\":\"\",\"content\":\"\",\"delay\":100,\"container\":\"body\"},\"tooltipEnabled\":1,\"tooltipOptions\":{\"animation\":1,\"html\":0,\"placement\":\"auto left\",\"selector\":\"\",\"trigger\":\"hover focus\",\"delay\":0,\"container\":\"body\"}}});\n",
       "//--><!]]>\n",
       "</script>\n",
       "</head>\n",
       "<body class=\"html not-front not-logged-in no-sidebars page-sbirsearch page-sbirsearch-detail page-sbirsearch-detail- page-sbirsearch-detail-814223\">\n",
       "  <div id=\"skip-link\">\n",
       "    <a class=\"element-invisible element-focusable\" href=\"#main-content\">Skip to main content</a>\n",
       "  </div>\n",
       "    <div class=\"container\">\n",
       "  <header>\n",
       "    <nav class=\"navbar navbar-default\" role=\"navigation\">\n",
       "      <div class=\"header-wrapper\">\n",
       "        <div class=\"logo-wrapper\">\n",
       "                    <a href=\"/\" title=\"Home\">\n",
       "            <img alt=\"SBIR/STTR 11 Agencies, 1 Vision: Seed the Future\" class=\"logo_img\" src=\"https://www.sbir.gov/sites/default/files/sbir-sttr-logo.png\"/>\n",
       "          </a>\n",
       "                  </div>\n",
       "        <div class=\"mobile-menu\">  \n",
       "          <button class=\"navbar-toggle\" data-target=\"#bs-example-navbar-collapse-1\" data-toggle=\"collapse\" type=\"button\">\n",
       "            <span class=\"sr-only\">Toggle navigation</span>\n",
       "            <span class=\"icon-bar\"></span>\n",
       "            <span class=\"icon-bar\"></span>\n",
       "            <span class=\"icon-bar\"></span>\n",
       "          </button>\n",
       "        </div>\n",
       "        <div class=\"search-wrapper\">\n",
       "            <div class=\"region region-header-search\">\n",
       "    <section class=\"block block-search clearfix\" id=\"block-search-form\">\n",
       "\n",
       "      \n",
       "  <form accept-charset=\"UTF-8\" action=\"/sbirsearch/detail/814223\" class=\"form-search content-search\" id=\"search-block-form\" method=\"post\"><div><div>\n",
       "      <h2 class=\"element-invisible\">Search form</h2>\n",
       "    <div class=\"input-group\"><input class=\"form-control form-text\" id=\"edit-search-block-form--2\" maxlength=\"128\" name=\"search_block_form\" placeholder=\"Search\" size=\"60\" type=\"text\" value=\"\"/><span class=\"input-group-btn\"><button class=\"btn btn-primary\" type=\"submit\"><span aria-hidden=\"true\" class=\"icon glyphicon glyphicon-search\"></span></button></span></div><div class=\"form-actions form-wrapper form-group\" id=\"edit-actions\"><button class=\"element-invisible btn btn-primary form-submit\" id=\"edit-submit\" name=\"op\" type=\"submit\" value='&lt;i class=\"fa fa-search\"&gt;&lt;/i&gt;'><i class=\"fa fa-search\"></i></button>\n",
       "</div><input name=\"form_build_id\" type=\"hidden\" value=\"form-dRiWD5Mp0i-FWrtTA5mLqVeefIaE8HLFn_OpFuYAHHg\"/>\n",
       "<input name=\"form_id\" type=\"hidden\" value=\"search_block_form\"/>\n",
       "</div>\n",
       "</div></form>\n",
       "</section>\n",
       "<section class=\"block block-block clearfix\" id=\"block-block-30\">\n",
       "\n",
       "      \n",
       "  <ul class=\"sba-menu\">\n",
       "  <li>\n",
       "  <a class=\"ext\" data-original-title=\"Go to SBA.gov\" data-placement=\"top\" data-toggle=\"tooltip\" href=\"https://www.sba.gov/\" id=\"sba-icon-bar\" title=\"\"></a>\n",
       "  </li>\n",
       "</ul>\n",
       "\n",
       "<div style=\"margin-top: 38px;\">\n",
       "<ul class=\"icons-menu\">\n",
       "\n",
       "        \n",
       "\t  <li style=\"width:128px;\"><a data-placement=\"top\" data-toggle=\"tooltip\" href=\"/user/login?destination=sbirsearch%2Fdetail%2F814223\" title=\"Log in\"><i class=\"fa fa-sign-in\"></i><span>Login/Register</span></a></li>\n",
       "\t\n",
       "\n",
       "  <li><a data-placement=\"top\" data-toggle=\"tooltip\" href=\"/feedback\" title=\"Contact Us\"><i class=\"fa fa-question-circle\"></i><span>Contact Us</span></a></li>\n",
       "  <li class=\"search-toggle\"><a data-placement=\"top\" data-toggle=\"tooltip\" href=\"#\" title=\"Search\"><i class=\"fa fa-search\"></i><span>Search</span></a></li>\n",
       "  \n",
       "</ul>\n",
       "</div>\n",
       "\n",
       "</section>\n",
       "  </div>\n",
       "        </div>\n",
       "      </div>  <!-- /header-wrapper -->\n",
       "      <div class=\"main-menu collapse navbar-collapse\" id=\"bs-example-navbar-collapse-1\">\n",
       "                <ul class=\"menu nav navbar-nav\"><li class=\"first expanded main-menu-parent-home dropdown\" id=\"dropdown218\"><a class=\"dropdown-toggle\" href=\"/\">Home Links <span class=\"caret\"></span></a><ul class=\"dropdown-menu\"><li class=\"first expanded main-menu-child-learn-about dropdown-sub\" id=\"dropdown-sub2985\"><a href=\"/about\">LEARN ABOUT</a><ul class=\"dropdown-submenu\"><li class=\"first leaf\"><a href=\"/about\">SBIR/STTR Overview</a></li>\n",
       "<li class=\"leaf\"><a href=\"/intellectual-property\">Intellectual Property</a></li>\n",
       "<li class=\"leaf\"><a href=\"/performance-benchmarks\">Performance Benchmarks</a></li>\n",
       "<li class=\"leaf\"><a href=\"/agencies-landing\">Participating Agencies</a></li>\n",
       "<li class=\"leaf\"><a href=\"/how-to-apply\">How To Apply</a></li>\n",
       "<li class=\"last leaf\"><a href=\"/fraud-waste-abuse\">Report Fraud, Waste &amp; Abuse</a></li>\n",
       "</ul></li>\n",
       "<li class=\"expanded main-menu-child-iam-an dropdown-sub\" id=\"dropdown-sub2990\"><a href=\"/about\">I'M A(AN)...</a><ul class=\"dropdown-submenu\"><li class=\"first leaf\"><a href=\"/applicants\">Applicant</a></li>\n",
       "<li class=\"leaf\"><a href=\"/awardee\">Awardee</a></li>\n",
       "<li class=\"leaf\"><a href=\"/investor\">Investor</a></li>\n",
       "<li class=\"leaf\"><a href=\"/large-business\">Large Business</a></li>\n",
       "<li class=\"last leaf\"><a href=\"/agency-representative\">Agency Representative</a></li>\n",
       "</ul></li>\n",
       "<li class=\"expanded main-menu-child-i-want-to dropdown-sub\" id=\"dropdown-sub2996\"><a href=\"/about\">I WANT TO...</a><ul class=\"dropdown-submenu\"><li class=\"first leaf\"><a href=\"https://www.sba.gov/category/navigation-structure/starting-managing-business\" rel=\"noopener noreferrer\" target=\"_blank\">Start A Small Business</a></li>\n",
       "<li class=\"leaf\"><a href=\"/registration\">Register My Company</a></li>\n",
       "<li class=\"leaf\"><a href=\"/user/login?destination=sbc\">Update My company Profile/Commercialization</a></li>\n",
       "<li class=\"leaf\"><a href=\"/agency-contacts\">Contact An SBIR Agency</a></li>\n",
       "<li class=\"leaf\"><a href=\"https://www.sbir.gov/feedback?type=sre\">Submit an SBIR/STTR related event</a></li>\n",
       "<li class=\"leaf\"><a href=\"http://www.uspto.gov/patent\" rel=\"noopener noreferrer\" target=\"_blank\">File For IP Protection</a></li>\n",
       "<li class=\"leaf\"><a href=\"https://www.globalinnovationexchange.org/\" rel=\"noopener noreferrer\" target=\"_blank\">Learn More About Global Innovation Exchange</a></li>\n",
       "<li class=\"last leaf\"><a href=\"/tutorials\">View Self Help Online Tutorials</a></li>\n",
       "</ul></li>\n",
       "<li class=\"last leaf state-services-location-menu-item\"><a href=\"/state_services?state=105813\">Local Resources Locator</a></li>\n",
       "</ul></li>\n",
       "<li class=\"expanded dropdown\" id=\"dropdown477\"><a class=\"dropdown-toggle\" href=\"/about\" id=\"about\">About <span class=\"caret\"></span></a><ul class=\"dropdown-menu\"><li class=\"first leaf\"><a href=\"/about/about-sbir\" id=\"item-1\">SBIR</a></li>\n",
       "<li class=\"leaf\"><a href=\"/about/about-sttr\">STTR</a></li>\n",
       "<li class=\"leaf\"><a href=\"/about-tibbetts-awards\">Tibbetts Awards and Hall of Fame</a></li>\n",
       "<li class=\"leaf\" id=\"main-menu-leadership-override\"><a href=\"/about/leadership\">Leadership</a></li>\n",
       "<li class=\"leaf\"><a href=\"/about-fast\">FAST Partnership Program</a></li>\n",
       "<li class=\"last leaf\" id=\"birth-history-menu\"><a href=\"/birth-and-history-of-the-sbir-program\" id=\"birth-history-link\">Birth &amp; History of SBIR Program</a></li>\n",
       "</ul></li>\n",
       "<li class=\"expanded dropdown\" id=\"dropdown812\"><a class=\"dropdown-toggle\" href=\"/sbirsearch/topic/current\">Funding <span class=\"caret\"></span></a><ul class=\"dropdown-menu\"><li class=\"first expanded dropdown-sub\" id=\"dropdown-sub920\"><a href=\"/solicitation-listing/open\">Solicitation Listing</a><ul class=\"dropdown-submenu\"><li class=\"first leaf\"><a href=\"/solicitation-listing/open\">Open</a></li>\n",
       "<li class=\"leaf\"><a href=\"/solicitation-listing/future\">Future</a></li>\n",
       "<li class=\"last leaf\"><a href=\"/solicitation-listing/closed\">Closed</a></li>\n",
       "</ul></li>\n",
       "<li class=\"expanded dropdown-sub\" id=\"dropdown-sub832\"><a href=\"/sbirsearch/topic/current\">Topics</a><ul class=\"dropdown-submenu\"><li class=\"first leaf\"><a href=\"/sbirsearch/topic/current\">Open</a></li>\n",
       "<li class=\"leaf\"><a href=\"/sbirsearch/topic/future\">Future</a></li>\n",
       "<li class=\"last leaf\"><a href=\"/sbirsearch/topic/past\">Closed</a></li>\n",
       "</ul></li>\n",
       "<li class=\"leaf\"><a href=\"/thinking-beyond-nih-for-health-related-sbir-sttr-funding\">Health-Related Funding</a></li>\n",
       "<li class=\"last leaf\"><a href=\"/Sensor-technology-for-the-21st-century\">Sensor Technology-Related Funding</a></li>\n",
       "</ul></li>\n",
       "<li class=\"expanded dropdown\" id=\"dropdown1145\"><a class=\"dropdown-toggle\" href=\"/sbirsearch/award/all\">Awards <span class=\"caret\"></span></a><ul class=\"dropdown-menu\"><li class=\"first expanded dropdown-sub\" id=\"dropdown-sub1147\"><a href=\"/sbirsearch/award/all\">Search results</a><ul class=\"dropdown-submenu\"><li class=\"first leaf\"><a href=\"/sbirsearch/award/all\">List</a></li>\n",
       "<li class=\"leaf\"><a href=\"/analytics-dashboard\">Chart</a></li>\n",
       "<li class=\"last leaf\"><a href=\"/reports/state-summary\">Map</a></li>\n",
       "</ul></li>\n",
       "<li class=\"leaf\"><a href=\"/sbirsearch/firm/all\">Company Listing</a></li>\n",
       "<li class=\"last expanded dropdown-sub\" id=\"dropdown-sub1425\"><a href=\"/awards/annual-reports\">Annual Reports</a><ul class=\"dropdown-submenu\"><li class=\"first leaf\"><a href=\"/awards/annual-reports\">Dashboard</a></li>\n",
       "<li class=\"last leaf\"><a href=\"/annual-reports-files\">Reports</a></li>\n",
       "</ul></li>\n",
       "</ul></li>\n",
       "<li class=\"expanded news-and-event-main-menu-dropdown dropdown\" id=\"dropdown2767\"><a class=\"dropdown-toggle\" href=\"/news\">News <span class=\"caret\"></span></a><ul class=\"dropdown-menu\"><li class=\"first last expanded dropdown-sub\" id=\"dropdown-sub552\"><a href=\"/news\">News</a><ul class=\"dropdown-submenu\"><li class=\"first leaf\"><a href=\"/news\">News</a></li>\n",
       "<li class=\"leaf\"><a href=\"/news/sbir-pulse\">SBIR Pulse</a></li>\n",
       "<li class=\"leaf\"><a href=\"/featured-success-stories\">Success Stories</a></li>\n",
       "<li class=\"leaf\"><a href=\"/news/testimonials\">Testimonials</a></li>\n",
       "<li class=\"leaf\"><a href=\"/news/blogs\">SBA Blog</a></li>\n",
       "<li class=\"leaf\"><a href=\"/news/sbir-newsletter\">SBA Newsletter</a></li>\n",
       "<li class=\"last leaf\"><a href=\"https://www.whitehouse.gov/ostp/\" rel=\"noopener noreferrer\">OSTP</a></li>\n",
       "</ul></li>\n",
       "</ul></li>\n",
       "<li class=\"expanded dropdown\" id=\"dropdown556\"><a class=\"dropdown-toggle\" href=\"/Events\">Events <span class=\"caret\"></span></a><ul class=\"dropdown-menu\"><li class=\"first leaf\"><a href=\"/events\">Events</a></li>\n",
       "<li class=\"leaf\"><a href=\"/events/webinars\">Webinars</a></li>\n",
       "<li class=\"leaf\"><a href=\"/events/calendar\">Calendar</a></li>\n",
       "<li class=\"leaf\"><a href=\"/sbir-road-tour\" id=\"sbir-road-tour\">SBIR Road Tour</a></li>\n",
       "<li class=\"leaf\"><a href=\"http://defenseinnovation.us/sbir.html\" rel=\"noopener noreferrer\">SBIR/STTR Fall Innovation Summit – Tampa</a></li>\n",
       "<li class=\"last leaf\"><a href=\"http://techconnectworld.com/SBIRSpring2018/\" rel=\"noopener noreferrer\">SBIR/STTR Spring Innovation Conference – Anaheim</a></li>\n",
       "</ul></li>\n",
       "<li class=\"expanded dropdown\" id=\"dropdown2769\"><a class=\"dropdown-toggle\" href=\"/tutorials\">Tutorials <span class=\"caret\"></span></a><ul class=\"dropdown-menu\"><li class=\"first leaf\"><a href=\"/tutorials\">On-Line Tutorials</a></li>\n",
       "<li class=\"last leaf\"><a href=\"/online-tutorials\">System User Guide Videos</a></li>\n",
       "</ul></li>\n",
       "<li class=\"last expanded dropdown\" id=\"dropdown484\"><a class=\"dropdown-toggle\" href=\"/faqs\">Resources <span class=\"caret\"></span></a><ul class=\"dropdown-menu\"><li class=\"first expanded dropdown-sub\" id=\"dropdown-sub911\"><a href=\"/faqs/general-questions\">FAQs</a><ul class=\"dropdown-submenu\"><li class=\"first leaf\"><a href=\"/faqs/general-questions\">General Questions</a></li>\n",
       "<li class=\"leaf\"><a href=\"/faqs/eligibility-requirements\">Eligibility Requirements</a></li>\n",
       "<li class=\"leaf\"><a href=\"/faqs/size-rule\">Size Rule</a></li>\n",
       "<li class=\"leaf\"><a href=\"/faqs/company-registry\">Company Registry</a></li>\n",
       "<li class=\"leaf\"><a href=\"/faqs/performance-benchmarks\">Performance Benchmarks</a></li>\n",
       "<li class=\"leaf\"><a href=\"/faqs/data-rights\">Data Rights</a></li>\n",
       "<li class=\"leaf\"><a href=\"/faqs/vc-participation\">VC Participation</a></li>\n",
       "<li class=\"leaf\"><a href=\"/faqs/miscellaneous\">Miscellaneous</a></li>\n",
       "<li class=\"leaf\"><a href=\"/faqs/other\">Other SBIR/STTR Questions</a></li>\n",
       "<li class=\"leaf\"><a href=\"/faqs/terms-abbreviations\">Terms &amp; Abbreviations</a></li>\n",
       "<li class=\"last leaf\"><a href=\"/faqs/agency-faq-links\">Agency FAQ Links</a></li>\n",
       "</ul></li>\n",
       "<li class=\"expanded dropdown-sub\" id=\"dropdown-sub1571\"><a href=\"/resources/external-partners\">For Entrepreneurs</a><ul class=\"dropdown-submenu\"><li class=\"first leaf\"><a href=\"https://www.sbir.gov/sites/default/files/2018%20Quad%20Chart%20Template.pptx\" target=\"_blank\" title=\"Quad Chart Template\">Quad Chart Template</a></li>\n",
       "<li class=\"leaf\"><a href=\"https://www.sbir.gov/sites/default/files/SBIR-STTR%20Outreach%20One%20Pager.pdf\" target=\"_blank\" title=\"SBIR-STTR Outreach One Pager\">SBIR-STTR Outreach One Pager</a></li>\n",
       "<li class=\"leaf\"><a href=\"/resources/external-resources\">External Resources</a></li>\n",
       "<li class=\"last leaf\"><a href=\"/tools\">Tools</a></li>\n",
       "</ul></li>\n",
       "<li class=\"leaf\"><a href=\"/api\">API</a></li>\n",
       "<li class=\"leaf\"><a href=\"/doing-business-in-usa\">Doing Business in USA</a></li>\n",
       "<li class=\"leaf\"><a class=\"sbirImpactMenu\" href=\"/node/832335\" title=\"SBIR Economic Impact\">SBIR Economic Impact</a></li>\n",
       "<li class=\"last leaf\"><a href=\"/nationalconference\" title=\"SBIR/STTR Conference Presentations\">SBIR/STTR Conference Presentations</a></li>\n",
       "</ul></li>\n",
       "</ul> \n",
       "              </div>\n",
       "    </nav>\n",
       "  </header>\n",
       "\n",
       "  <div class=\"main-container\">\n",
       "  <ol class=\"breadcrumb\"><li class=\"breadcrumb-0 first\"><a href=\"https://www.sbir.gov/\">Home</a></li><li class=\"breadcrumb-1 last\">Award Details</li></ol>  <!-- new title and prefix -->\n",
       "              <h1 class=\"page-header\">Novel Dopant Strategies for the Development of Submicron PZT Ceramics</h1>\n",
       "    \n",
       "    <div class=\"row main-row\">\n",
       "      <!-- old breadcrumbs -->\n",
       "      \n",
       "      <!-- end old breadcrumbs -->\n",
       "      \n",
       "      <section class=\"col-sm-12\" id=\"main-column\">\n",
       "      <div class=\"main-section-inner\">\n",
       "                \n",
       "        <a id=\"main-content\"></a>\n",
       "        \n",
       "        <!-- old title and prefix here -->\n",
       "        \n",
       "        <!-- end old title -->\n",
       "                                                              <div class=\"region region-help alert alert-info messages info\">\n",
       "    <span aria-hidden=\"true\" class=\"icon glyphicon glyphicon-question-sign\"></span><section class=\"block block-system clearfix\" id=\"block-system-help\">\n",
       "\n",
       "      \n",
       "  <span class=\"print-syslink\"><span class=\"print_html\"><a class=\"print-page\" href=\"https://www.sbir.gov/print/sbirsearch/detail/814223\" rel=\"nofollow\" target=\"_blank\" title=\"Display a printer-friendly version of this page.\">Printer-friendly version</a></span></span>\n",
       "\n",
       "</section>\n",
       "  </div>\n",
       "                                <div about=\"/node/814223\" class=\"node node-award node-promoted clearfix\" id=\"node-814223\" typeof=\"sioc:Item foaf:Document\">\n",
       "  <div>\n",
       "    <div class=\"award-info-wrapper\">\n",
       "            <div class=\"info-wrapper open-section-title\">Award Information</div>\n",
       "      <div class=\"container-fluid\">\n",
       "        <div class=\"row open-style\">\n",
       "          <div class=\"col-md-6\">\n",
       "            <span class=\"open-label\">Agency:</span> <span class=\"open-description\">Department of Defense</span>\n",
       "          </div>\n",
       "          <div class=\"col-md-6\">\n",
       "            <span class=\"open-label\">Branch:</span> <span class=\"open-description\">Navy</span>\n",
       "          </div>\n",
       "        </div>\n",
       "        <div class=\"row open-style\">\n",
       "          <div class=\"col-md-6\">\n",
       "            <span class=\"open-label\">Contract:</span> <span class=\"open-description\">N00014-96-C-0310</span>\n",
       "          </div>\n",
       "          <div class=\"col-md-6\">\n",
       "            <span class=\"open-label\">Agency Tracking Number:</span> <span class=\"open-description\">300300287</span>\n",
       "          </div>\n",
       "        </div>\n",
       "        <div class=\"row open-style\">\n",
       "          <div class=\"col-md-3\">\n",
       "            <span class=\"open-label\">Amount:</span>\n",
       "            <span class=\"open-description\">$556,768.00</span>\n",
       "          </div>\n",
       "          <div class=\"col-md-3\">\n",
       "            <span class=\"open-label\">Phase:</span>\n",
       "            <span class=\"open-description\">Phase II</span>\n",
       "          </div>\n",
       "          <div class=\"col-md-3\">\n",
       "            <span class=\"open-label\">Program:</span>\n",
       "            <span class=\"open-description\">STTR</span>\n",
       "          </div>\n",
       "          <div class=\"col-md-3\">\n",
       "            <span class=\"open-label\">Awards Year:</span>\n",
       "            <span class=\"open-description\">1996</span>\n",
       "          </div>\n",
       "        </div>\n",
       "        <div class=\"row open-style\">\n",
       "          <div class=\"col-md-3\">\n",
       "            <span class=\"open-label\">Solicitation Year:</span>\n",
       "            <span class=\"open-description\">1995</span>\n",
       "          </div>\n",
       "          <div class=\"col-md-3\">\n",
       "            <span class=\"open-label\">Solicitation Topic Code:</span>\n",
       "            <span class=\"open-description\">N95-T008</span>\n",
       "          </div>\n",
       "          <div class=\"col-md-3\">\n",
       "            <span class=\"open-label\">Solicitation Number:</span>\n",
       "            <span class=\"open-description\">N/A</span>\n",
       "          </div>\n",
       "        </div>\n",
       "      </div>\n",
       "      <div class=\"small-business-info-wrapper\">\n",
       "        <div class=\"info-wrapper\">Small Business Information</div>\n",
       "        <div class=\"sbc-name-wrapper\"><a href=\"/sbc/trs-ceramics-inc\">TRS CERAMICS, INC.</a></div>\n",
       "        <div class=\"sbc-address-wrapper\">\n",
       "          2820 East College Avenue, State College, PA, 16801        </div>\n",
       "        <div class=\"row open-style\">\n",
       "          <div class=\"col-md-12\">\n",
       "            <span class=\"open-label\">DUNS:</span>\n",
       "            <span class=\"open-description\">782683007</span>\n",
       "          </div>\n",
       "        </div>\n",
       "        <div class=\"row open-style\">\n",
       "          <div class=\"col-md-3\">\n",
       "            <span class=\"open-label\">HUBZone Owned:</span>\n",
       "            <span class=\"open-description\">N</span>\n",
       "          </div>\n",
       "          <div class=\"col-md-3\">\n",
       "            <span class=\"open-label\">Woman Owned:</span>\n",
       "            <span class=\"open-description\">N</span>\n",
       "          </div>\n",
       "          <div class=\"col-md-6\">\n",
       "            <span class=\"open-label\">Socially and Economically Disadvantaged:</span>\n",
       "            <span class=\"open-description\">N</span>\n",
       "          </div>\n",
       "        </div>\n",
       "      </div>\n",
       "      <div class=\"row award-sub-wrapper\">\n",
       "        <div class=\"col-md-4\">\n",
       "          <div class=\"award-sub\">Principal Investigator</div>\n",
       "          <div class=\"award-sub-description\">\n",
       "            <span class=\"award-node-section-label\">Name:</span> Clive Randall<br/><span class=\"award-node-section-label\">Phone:</span> (814) 238-7455<br/><span class=\"award-node-section-label\">Email:</span> raffi@trstechnologies.com<br/>          </div>\n",
       "        </div>\n",
       "        <div class=\"col-md-4\">\n",
       "          <div class=\"award-sub\">Business Contact</div>\n",
       "          <div class=\"award-sub-description\">\n",
       "            <span class=\"award-node-section-label\">Name:</span> Sei-Joo Jang<br/>Phone: (814) 238-7485<br/>Email: raffi@trstechnologies.com<br/>          </div>\n",
       "        </div>\n",
       "        <div class=\"col-md-4\">\n",
       "          <div class=\"award-sub\">Research Institution</div>\n",
       "          <div class=\"award-sub-description\">\n",
       "            <div>\n",
       "              <span class=\"award-node-section-label\">Name:</span> Penn State University<br/><span class=\"award-node-section-label\">Address:</span> Office of Sponsored Programs<br/>110 Technology Center Building<br/>University Park, MD, 16802<br/><span class=\"award-node-section-label\">Type:</span> Nonprofit college or university<br/>            </div>\n",
       "          </div>\n",
       "        </div>\n",
       "      </div>\n",
       "      <div class=\"abstract-wrapper\">\n",
       "        <div class=\"info-wrapper\">Abstract</div>\n",
       "        The fabrication of submicron piezoelectric ceramics (PZT-5) with properties comparable to commercially available coarse grained materials was demonstrated in the Phase I Small Business Technology Transfer (STTR) program. This work was accomplished in collaboration with the Pennsylvania State University, through a fundamental understanding of the domain state in these materials. Specifically, novel doping and compositional strategies were correlated to a specific domain state, i.e., domain size and distribution, number of variants, and transgranular domain switching to allow the previous lower limit in grain size for piezoelectric ceramics can be reduced. These submicron grain size piezoelectric materials have the piezoelectric activity of commercially available materials but will exhibit superior mechanical properties.<br/><br/>The Phase II STTR program will extend this work to other piezoelectric materials including PZT-5H and PZT-8. The process will then be scaled to a pilot production level and optimized to maximize yields and minimize costs. Process and quality controls will be implemented to ensure repeatability of the manufacturing process. It will be demonstrated that devices requiring further miniaturization of piezoelectric active regions such as high frequency biomedical transducers (&gt;20mhz) and low voltage (&lt;50 volts) multilayer actuators will greatly benefit from these new materials.      </div>\n",
       "      <p class=\"attention\">* Information listed above is at the time of submission. *</p>\n",
       "    </div>\n",
       "  </div>\n",
       "</div>\n",
       "      </div>\n",
       "      </section>\n",
       "\n",
       "      \n",
       "      \n",
       "    </div>\n",
       "  </div>\n",
       "    <section class=\"agencies-section-wrapper\">\n",
       "      <div class=\"region region-bottom\">\n",
       "    <section class=\"block block-block clearfix\" id=\"block-block-20\">\n",
       "\n",
       "      \n",
       "  <div class=\"b-title\">\n",
       "<h2>Agency Micro-sites</h2>\n",
       "</div>\n",
       "<div class=\"agency-small-grid col-1\"><a data-placement=\"top\" data-toggle=\"tooltip\" href=\"/agencies/small-business-administration\" title=\"Small Business Administration - Leading Agency\"><img alt=\"SBA logo\" class=\"center-block img-responsive\" src=\"/sites/all/themes/sbir/images/sba-agency.png\"/></a></div>\n",
       "<div class=\"agency-small-grid col-2\"><a data-placement=\"top\" data-toggle=\"tooltip\" href=\"/agencies/department-of-agriculture\" title=\"Department of Agriculture\"><img alt=\"Department of Agriculture logo\" class=\"center-block img-responsive\" src=\"/sites/all/themes/sbir/images/usda.png\"/></a></div>\n",
       "<div class=\"agency-small-grid col-3\"><a data-placement=\"top\" data-toggle=\"tooltip\" href=\"/agencies/department-of-commerce\" title=\"Department of Commerce\"><img alt=\"Department of Commerce logo\" class=\"center-block img-responsive\" src=\"/sites/all/themes/sbir/images/department-of-commerce.png\"/></a></div>\n",
       "<div class=\"agency-small-grid col-4\"><a data-placement=\"top\" data-toggle=\"tooltip\" href=\"/agencies/department-of-defense\" title=\"Department of Defense\"><img alt=\"Department of Defense logo\" class=\"center-block img-responsive\" src=\"/sites/all/themes/sbir/images/dod.png\"/></a></div>\n",
       "<div class=\"agency-small-grid col-5\"><a data-placement=\"top\" data-toggle=\"tooltip\" href=\"/agencies/department-of-education\" title=\"Department of Education\"><img alt=\"Department of Education logo\" class=\"center-block img-responsive\" src=\"/sites/all/themes/sbir/images/department-of-education.png\"/></a></div>\n",
       "<div class=\"agency-small-grid col-6\"><a data-placement=\"top\" data-toggle=\"tooltip\" href=\"/agencies/department-of-energy\" title=\"Department of Energy\"><img alt=\"Department of Energy logo\" class=\"center-block img-responsive\" src=\"/sites/all/themes/sbir/images/department-of-energy.png\"/></a></div>\n",
       "<div class=\"agency-small-grid col-7\"><a class=\"ext\" data-placement=\"top\" data-toggle=\"tooltip\" href=\"https://sbir.nih.gov/\" title=\"Department of Health and Human Services\"><img alt=\"Department of Health and Human Services logo\" class=\"center-block img-responsive\" src=\"/sites/all/themes/sbir/images/department-of-health.png\"/></a></div>\n",
       "<div class=\"agency-small-grid col-8\"><a class=\"ext\" data-placement=\"top\" data-toggle=\"tooltip\" href=\"https://sbir2.st.dhs.gov/portal/SBIR/\" title=\"Department of Homeland Security\"><img alt=\"Department of Homeland Security logo\" class=\"center-block img-responsive\" src=\"/sites/all/themes/sbir/images/dhs.png\"/></a></div>\n",
       "<div class=\"agency-small-grid col-9\"><a data-placement=\"top\" data-toggle=\"tooltip\" href=\"/agencies/department-of-transportation\" title=\"Department of Transportation\"><img alt=\"Department of Transportation logo\" class=\"center-block img-responsive\" src=\"/sites/all/themes/sbir/images/department-of-transportation.png\"/></a></div>\n",
       "<div class=\"agency-small-grid col-10\"><a data-placement=\"top\" data-toggle=\"tooltip\" href=\"/agencies/environmental-protection-agency\" title=\"Environmental Protection Agency\"><img alt=\"Environmental Protection Agency logo\" class=\"center-block img-responsive\" src=\"/sites/all/themes/sbir/images/enviromental-protection-agency.png\"/></a></div>\n",
       "<div class=\"agency-small-grid col-11\"><a data-placement=\"top\" data-toggle=\"tooltip\" href=\"/agencies/national-aeronautics-and-space-administration\" title=\"National Aeronautics and Space Administration\"><img alt=\"National Aeronautics and Space Administration logo\" class=\"center-block img-responsive\" src=\"/sites/all/themes/sbir/images/nasa.png\"/></a></div>\n",
       "<div class=\"agency-small-grid col-12\"><a data-placement=\"top\" data-toggle=\"tooltip\" href=\"/agencies/national-science-foundation\" title=\"National Science Foundation\"><img alt=\"National Science Foundation logo\" class=\"center-block img-responsive\" src=\"/sites/all/themes/sbir/images/nsf.png\"/></a></div>\n",
       "\n",
       "</section>\n",
       "  </div>\n",
       "  </section>\n",
       "  <footer>\n",
       "    <div class=\"footer-inner\">\n",
       "        <div class=\"region region-footer\">\n",
       "    <section class=\"block block-block navigation footer-column clearfix\" id=\"block-block-8\">\n",
       "\n",
       "        <h2 class=\"block-title\">Navigation</h2>\n",
       "    \n",
       "  <ul><li><a href=\"/about\">About</a></li>\n",
       "<li><a href=\"/sbirsearch/topic/current\">Funding</a></li>\n",
       "<li><a href=\"/sbirsearch/award/all\">Awards</a></li>\n",
       "<li><a href=\"/news\">News</a></li>\n",
       "<li><a href=\"/events\">Events</a></li>\n",
       "<li><a href=\"/faqs/general-questions\">Resources</a></li>\n",
       "</ul>\n",
       "</section>\n",
       "<section class=\"block block-block follow footer-column clearfix\" id=\"block-block-9\">\n",
       "\n",
       "        <h2 class=\"block-title\">Follow Us</h2>\n",
       "    \n",
       "  <ul class=\"social-footer-icons\"><li><a class=\"twitter-footer ext\" href=\"https://twitter.com/sbirgov\"><i class=\"fa fa-twitter\"></i></a></li>\n",
       "</ul>\n",
       "</section>\n",
       "<section class=\"block block-block section-clear visible-xs-block clearfix\" id=\"block-block-4\">\n",
       "\n",
       "      \n",
       "  <p><span>clear</span></p>\n",
       "\n",
       "</section>\n",
       "<section class=\"block block-block contact footer-column clearfix clearfix\" id=\"block-block-10\">\n",
       "\n",
       "        <h2 class=\"block-title\">Contact Us</h2>\n",
       "    \n",
       "  <div><em class=\"fa fa-headphones\">  </em><a class=\"helpdesk-support\" href=\"/feedback\">Helpdesk Support / Feedback</a></div>\n",
       "<div class=\"support-hours\">Phone: 571-306-5201</div>\n",
       "<div class=\"support-days\"><em class=\"fa fa-clock-o\">  </em>Monday through Friday</div>\n",
       "<div class=\"support-hours\">From 9 am to 5 pm ET (closed Federal Holidays)</div>\n",
       "\n",
       "</section>\n",
       "<section class=\"block block-block clearfix\" id=\"block-block-31\">\n",
       "\n",
       "      \n",
       "  <div class=\"footer-external-links-menu-wrapper\">\n",
       "<div class=\"footer-external-links-1-wrapper\">\n",
       "<ul class=\"footer-external-links-1\"><!-- <li>a href=\"/sitemap\">Site Map</a></li> --><li><a href=\"https://www.sba.gov/about-sba-services/open-government\">Open Government</a></li>\n",
       "<li><a href=\"https://www.sba.gov/advocacy\">Advocacy</a></li>\n",
       "<li><a href=\"https://www.sba.gov/office-of-inspector-general\">Inspector General</a></li>\n",
       "<li><a href=\"/Privacy-Act-System-of-Records-Notice\">Privacy Act Systems of Records Notice</a></li>\n",
       "</ul></div>\n",
       "<ul class=\"footer-external-links-2\"><li><a href=\"http://www.regulations.gov/#!home\">Regulations.gov</a></li>\n",
       "<li class=\"last\"><a href=\"https://whitehouse.gov/\">WhiteHouse.gov</a></li>\n",
       "</ul></div>\n",
       "\n",
       "</section>\n",
       "  </div>\n",
       "    </div>\n",
       "  </footer>\n",
       "\n",
       "  <div class=\"bottom-bar\">\n",
       "    <div class=\"bottom-bar-inner\">\n",
       "      <img alt=\"US Flag\" class=\"img-responsive\" src=\"/sites/all/themes/sbir/images/flag.png\"/>\n",
       "      <span class=\"top-bar-text\">An Official Website of the United States Government</span>\n",
       "    </div>\n",
       "  </div>\n",
       "\n",
       "</div><!-- end container -->\n",
       "  <script src=\"/sites/default/files/advagg_js/js__i11V-7AETPhfL9YzRpXBpECwVkYyQ_ahu2eHxES_mK0__LGnktZcDftj5c8Ht8kqXqnfL0GpdSqasMGWuvS6mR6E__kje5jNsaJMHj4r34eabTnz56zqxUA6mWU9nFnxKCQmc.js\" type=\"text/javascript\"></script>\n",
       "\n",
       "\n",
       "</body></html>"
      ]
     },
     "execution_count": 21,
     "metadata": {},
     "output_type": "execute_result"
    }
   ],
   "source": [
    "input_soup"
   ]
  },
  {
   "cell_type": "code",
   "execution_count": 22,
   "metadata": {},
   "outputs": [],
   "source": [
    "# list of information\n",
    "info_list = []"
   ]
  },
  {
   "cell_type": "code",
   "execution_count": 23,
   "metadata": {},
   "outputs": [],
   "source": [
    "title = input_soup.title.text.split('|')[0]\n",
    "info_list.append( ('title', title) )"
   ]
  },
  {
   "cell_type": "code",
   "execution_count": 24,
   "metadata": {},
   "outputs": [],
   "source": [
    "# relevant information are below this node\n",
    "imp_info = input_soup.find('div', class_= \"award-info-wrapper\")"
   ]
  },
  {
   "cell_type": "code",
   "execution_count": 34,
   "metadata": {},
   "outputs": [
    {
     "data": {
      "text/plain": [
       "(bs4.element.Tag, <div class=\"award-info-wrapper\">\n",
       "             <div class=\"info-wrapper open-section-title\">Award Information</div>\n",
       "       <div class=\"container-fluid\">\n",
       "         <div class=\"row open-style\">\n",
       "           <div class=\"col-md-6\">\n",
       "             <span class=\"open-label\">Agency:</span> <span class=\"open-description\">Department of Defense</span>\n",
       "           </div>\n",
       "           <div class=\"col-md-6\">\n",
       "             <span class=\"open-label\">Branch:</span> <span class=\"open-description\">Navy</span>\n",
       "           </div>\n",
       "         </div>\n",
       "         <div class=\"row open-style\">\n",
       "           <div class=\"col-md-6\">\n",
       "             <span class=\"open-label\">Contract:</span> <span class=\"open-description\">N00014-96-C-0310</span>\n",
       "           </div>\n",
       "           <div class=\"col-md-6\">\n",
       "             <span class=\"open-label\">Agency Tracking Number:</span> <span class=\"open-description\">300300287</span>\n",
       "           </div>\n",
       "         </div>\n",
       "         <div class=\"row open-style\">\n",
       "           <div class=\"col-md-3\">\n",
       "             <span class=\"open-label\">Amount:</span>\n",
       "             <span class=\"open-description\">$556,768.00</span>\n",
       "           </div>\n",
       "           <div class=\"col-md-3\">\n",
       "             <span class=\"open-label\">Phase:</span>\n",
       "             <span class=\"open-description\">Phase II</span>\n",
       "           </div>\n",
       "           <div class=\"col-md-3\">\n",
       "             <span class=\"open-label\">Program:</span>\n",
       "             <span class=\"open-description\">STTR</span>\n",
       "           </div>\n",
       "           <div class=\"col-md-3\">\n",
       "             <span class=\"open-label\">Awards Year:</span>\n",
       "             <span class=\"open-description\">1996</span>\n",
       "           </div>\n",
       "         </div>\n",
       "         <div class=\"row open-style\">\n",
       "           <div class=\"col-md-3\">\n",
       "             <span class=\"open-label\">Solicitation Year:</span>\n",
       "             <span class=\"open-description\">1995</span>\n",
       "           </div>\n",
       "           <div class=\"col-md-3\">\n",
       "             <span class=\"open-label\">Solicitation Topic Code:</span>\n",
       "             <span class=\"open-description\">N95-T008</span>\n",
       "           </div>\n",
       "           <div class=\"col-md-3\">\n",
       "             <span class=\"open-label\">Solicitation Number:</span>\n",
       "             <span class=\"open-description\">N/A</span>\n",
       "           </div>\n",
       "         </div>\n",
       "       </div>\n",
       "       <div class=\"small-business-info-wrapper\">\n",
       "         <div class=\"info-wrapper\">Small Business Information</div>\n",
       "         <div class=\"sbc-name-wrapper\"><a href=\"/sbc/trs-ceramics-inc\">TRS CERAMICS, INC.</a></div>\n",
       "         <div class=\"sbc-address-wrapper\">\n",
       "           2820 East College Avenue, State College, PA, 16801        </div>\n",
       "         <div class=\"row open-style\">\n",
       "           <div class=\"col-md-12\">\n",
       "             <span class=\"open-label\">DUNS:</span>\n",
       "             <span class=\"open-description\">782683007</span>\n",
       "           </div>\n",
       "         </div>\n",
       "         <div class=\"row open-style\">\n",
       "           <div class=\"col-md-3\">\n",
       "             <span class=\"open-label\">HUBZone Owned:</span>\n",
       "             <span class=\"open-description\">N</span>\n",
       "           </div>\n",
       "           <div class=\"col-md-3\">\n",
       "             <span class=\"open-label\">Woman Owned:</span>\n",
       "             <span class=\"open-description\">N</span>\n",
       "           </div>\n",
       "           <div class=\"col-md-6\">\n",
       "             <span class=\"open-label\">Socially and Economically Disadvantaged:</span>\n",
       "             <span class=\"open-description\">N</span>\n",
       "           </div>\n",
       "         </div>\n",
       "       </div>\n",
       "       <div class=\"row award-sub-wrapper\">\n",
       "         <div class=\"col-md-4\">\n",
       "           <div class=\"award-sub\">Principal Investigator</div>\n",
       "           <div class=\"award-sub-description\">\n",
       "             <span class=\"award-node-section-label\">Name:</span> Clive Randall<br/><span class=\"award-node-section-label\">Phone:</span> (814) 238-7455<br/><span class=\"award-node-section-label\">Email:</span> raffi@trstechnologies.com<br/>          </div>\n",
       "         </div>\n",
       "         <div class=\"col-md-4\">\n",
       "           <div class=\"award-sub\">Business Contact</div>\n",
       "           <div class=\"award-sub-description\">\n",
       "             <span class=\"award-node-section-label\">Name:</span> Sei-Joo Jang<br/>Phone: (814) 238-7485<br/>Email: raffi@trstechnologies.com<br/>          </div>\n",
       "         </div>\n",
       "         <div class=\"col-md-4\">\n",
       "           <div class=\"award-sub\">Research Institution</div>\n",
       "           <div class=\"award-sub-description\">\n",
       "             <div>\n",
       "               <span class=\"award-node-section-label\">Name:</span> Penn State University<br/><span class=\"award-node-section-label\">Address:</span> Office of Sponsored Programs<br/>110 Technology Center Building<br/>University Park, MD, 16802<br/><span class=\"award-node-section-label\">Type:</span> Nonprofit college or university<br/>            </div>\n",
       "           </div>\n",
       "         </div>\n",
       "       </div>\n",
       "       <div class=\"abstract-wrapper\">\n",
       "         <div class=\"info-wrapper\">Abstract</div>\n",
       "         The fabrication of submicron piezoelectric ceramics (PZT-5) with properties comparable to commercially available coarse grained materials was demonstrated in the Phase I Small Business Technology Transfer (STTR) program. This work was accomplished in collaboration with the Pennsylvania State University, through a fundamental understanding of the domain state in these materials. Specifically, novel doping and compositional strategies were correlated to a specific domain state, i.e., domain size and distribution, number of variants, and transgranular domain switching to allow the previous lower limit in grain size for piezoelectric ceramics can be reduced. These submicron grain size piezoelectric materials have the piezoelectric activity of commercially available materials but will exhibit superior mechanical properties.<br/><br/>The Phase II STTR program will extend this work to other piezoelectric materials including PZT-5H and PZT-8. The process will then be scaled to a pilot production level and optimized to maximize yields and minimize costs. Process and quality controls will be implemented to ensure repeatability of the manufacturing process. It will be demonstrated that devices requiring further miniaturization of piezoelectric active regions such as high frequency biomedical transducers (&gt;20mhz) and low voltage (&lt;50 volts) multilayer actuators will greatly benefit from these new materials.      </div>\n",
       "       <p class=\"attention\">* Information listed above is at the time of submission. *</p>\n",
       "     </div>)"
      ]
     },
     "execution_count": 34,
     "metadata": {},
     "output_type": "execute_result"
    }
   ],
   "source": [
    "type(imp_info), imp_info"
   ]
  },
  {
   "cell_type": "code",
   "execution_count": 26,
   "metadata": {},
   "outputs": [],
   "source": [
    "# Agency and Branch\n",
    "top_info = imp_info.findAll('div', class_ = 'col-md-6', limit=5)"
   ]
  },
  {
   "cell_type": "code",
   "execution_count": 27,
   "metadata": {},
   "outputs": [],
   "source": [
    "layer1 = [(i.find('span', class_='open-label').text.strip(':'),\n",
    "          i.find('span', class_='open-description').text) for i in top_info]"
   ]
  },
  {
   "cell_type": "code",
   "execution_count": 28,
   "metadata": {},
   "outputs": [],
   "source": [
    "info_list.extend(layer1)"
   ]
  },
  {
   "cell_type": "code",
   "execution_count": 29,
   "metadata": {},
   "outputs": [],
   "source": [
    "# solicitation, award amount, ...\n",
    "mid_info = imp_info.findAll('div', class_ = 'col-md-3', limit=9)"
   ]
  },
  {
   "cell_type": "code",
   "execution_count": 30,
   "metadata": {},
   "outputs": [],
   "source": [
    "layer2 = [(i.find('span', class_='open-label').text.strip(':'),\n",
    "          i.find('span', class_='open-description').text) for i in mid_info]"
   ]
  },
  {
   "cell_type": "code",
   "execution_count": 31,
   "metadata": {},
   "outputs": [],
   "source": [
    "info_list.extend(layer2)"
   ]
  },
  {
   "cell_type": "code",
   "execution_count": 49,
   "metadata": {},
   "outputs": [
    {
     "data": {
      "text/plain": [
       "'TRS CERAMICS, INC.'"
      ]
     },
     "execution_count": 49,
     "metadata": {},
     "output_type": "execute_result"
    }
   ],
   "source": [
    "info_list.append( ('company name', imp_info.find('div', class_='sbc-name-wrapper').text.strip() ) )\n",
    "# imp_info.find('div', class_='sbc-name-wrapper').text.strip()"
   ]
  },
  {
   "cell_type": "code",
   "execution_count": 33,
   "metadata": {},
   "outputs": [],
   "source": [
    "info_list.append( ('company address', imp_info.find('div', class_= 'sbc-address-wrapper').text.strip() ) )"
   ]
  },
  {
   "cell_type": "code",
   "execution_count": 61,
   "metadata": {},
   "outputs": [],
   "source": [
    "# DUNS\n",
    "duns = imp_info.find('div', class_ = 'col-md-12')\n",
    "info_list.append( (duns.find('span', class_='open-label').text.strip(':'),\n",
    "          duns.find('span', class_='open-description').text) )"
   ]
  },
  {
   "cell_type": "code",
   "execution_count": 62,
   "metadata": {},
   "outputs": [],
   "source": [
    "people_info = imp_info.find('div', class_='col-md-4')\n",
    "pi = people_info.find('div', class_='award-sub')\n",
    "pi_d = pi.find_all_next('span', class_='award-node-section-label', limit=4)\n",
    "pi_info = dict([(i.text.strip(':'), i.next_sibling.strip('\\xa0').replace('\\xa0', ' ')) for i in pi_d])\n",
    "info_list.append( (pi.text, pi_info) )"
   ]
  },
  {
   "cell_type": "code",
   "execution_count": 63,
   "metadata": {},
   "outputs": [],
   "source": [
    "contact = people_info.find_next_sibling('div')\n",
    "contact_sub = contact.find('div', class_='award-sub')\n",
    "\n",
    "try:\n",
    "    name_str = contact_sub.find_next('span', class_='award-node-section-label')\n",
    "    contact_info = {}\n",
    "    contact_info[name_str.text.strip(':')] = name_str.next_sibling.strip('\\xa0').replace('\\xa0', ' ')\n",
    "    contact_rest = [ i.replace('\\xa0', '').split(':')  for i in name_str.next_siblings if isinstance(i,str) and ':' in i]\n",
    "    contact_info.update(dict(contact_rest))\n",
    "except:\n",
    "    name_str = contact_sub.find_next('div', class_='award-sub-description')\n",
    "    contact_rest = [ i.replace('\\xa0', '').strip().split(':')  for i in name_str.contents if isinstance(i,str) and ':' in i]\n",
    "    contact_info = dict(contact_rest)\n",
    "\n",
    "info_list.append( (contact_sub.text, contact_info) )"
   ]
  },
  {
   "cell_type": "code",
   "execution_count": 64,
   "metadata": {},
   "outputs": [],
   "source": [
    "inst = contact.find_next_sibling('div')\n",
    "inst_key = inst.find('div', class_='award-sub')\n",
    "ri = inst.select_one('div[class=award-sub-description] > div').text.strip()\n",
    "# if not ri == 'N/A':\n",
    "info_list.append( (inst_key.text, ri) )"
   ]
  },
  {
   "cell_type": "code",
   "execution_count": 65,
   "metadata": {},
   "outputs": [],
   "source": [
    "# abstract = imp_info.find('div', class_='abstract-wrapper')\n",
    "# key = abstract.find('div', class_='info-wrapper')\n",
    "key = imp_info.select_one('div[class=abstract-wrapper] > div[class=info-wrapper]')\n",
    "abs_text = key.next_sibling.strip()\n",
    "# if not abs_text == 'N/A':\n",
    "info_list.append( (key.text, abs_text) )"
   ]
  },
  {
   "cell_type": "code",
   "execution_count": 66,
   "metadata": {},
   "outputs": [
    {
     "data": {
      "text/plain": [
       "{'title': 'Iconic, Graphic, Data Flow Programming for High-Performance Real-Time Workstations ',\n",
       " 'Agency': 'Department of Defense',\n",
       " 'Branch': 'Navy',\n",
       " 'Contract': 'N/A',\n",
       " 'Agency Tracking Number': '29022',\n",
       " 'Socially and Economically Disadvantaged': 'N',\n",
       " 'Amount': '$150,000.00',\n",
       " 'Phase': 'Phase II',\n",
       " 'Program': 'SBIR',\n",
       " 'Awards Year': '1996',\n",
       " 'Solicitation Year': 'N/A',\n",
       " 'Solicitation Topic Code': 'N/A',\n",
       " 'Solicitation Number': 'N/A',\n",
       " 'HUBZone Owned': 'N',\n",
       " 'Woman Owned': 'N',\n",
       " 'company name': 'Management Communications & Control, I',\n",
       " 'company address': '2000 North 14th Street Suite, 220, Arlington, VA, 22201',\n",
       " 'DUNS': 'N/A',\n",
       " 'Principal Investigator': {'Name': 'Christopher B. Robbins',\n",
       "  'Phone': '(703) 522-7177'},\n",
       " 'Business Contact': {'Phone': '() -'},\n",
       " 'Abstract': 'Management Communications and Control, Inc. (MCCI) proposes development of a PGM environment for desktop signal processing workstations. A domain engineering inter- face will provide an open architecture to all supported DSPs configured in a variety of architectures. The environment will provide tools for PGM specification of applications using application domain primitives and selection/specification of a target signal processor architecture. Environment tools will optimize the appli- cation for the specified architecture and automatically generate executable appli- cation code. Run-time support will provide efficient, real-time application execution. Command program and execution monitor run-time interfaces will be supported. A GUI command interface will support interactive graph control as an alternative to command programs. The execution monitor will provide a \"virtual oscilloscope\" capability to interact with application data. Exporting data to and importing data to/from other tools will support interactive use of PGM and other analysis and display tools. The PGM workstation environment will be portable to workstations and PCs with Unix support. Translation support for new DSPs is easily added to the environment. Run-time support is readily ported to new architectures. The environment will be implemented reusing software objects from other PGM efforts to maximize leverage of SBIR funds and minimize technical risk.'}"
      ]
     },
     "execution_count": 66,
     "metadata": {},
     "output_type": "execute_result"
    }
   ],
   "source": [
    "dict(info_list)"
   ]
  },
  {
   "cell_type": "markdown",
   "metadata": {},
   "source": [
    "WHAT I NEED TO SCRAPE:\n",
    "Agency\n",
    "Branch\n",
    "Amount\n",
    "Company address\n",
    "PI Name and title\n",
    "Business Contact Name and title\n",
    "DUNS (Small Business Identification Number)\n",
    "Solicitation Year\n",
    "Solicitation Topic Code\n",
    "Sollicitation number\n",
    "Contract\n",
    "Agency Tracking Number\n",
    "HUBZone Owned\n",
    "Woman Owned\n",
    "Socially and Economically Disadvantage"
   ]
  },
  {
   "cell_type": "code",
   "execution_count": null,
   "metadata": {},
   "outputs": [],
   "source": []
  }
 ],
 "metadata": {
  "kernelspec": {
   "display_name": "Python [default]",
   "language": "python",
   "name": "python3"
  },
  "language_info": {
   "codemirror_mode": {
    "name": "ipython",
    "version": 3
   },
   "file_extension": ".py",
   "mimetype": "text/x-python",
   "name": "python",
   "nbconvert_exporter": "python",
   "pygments_lexer": "ipython3",
   "version": "3.6.5"
  }
 },
 "nbformat": 4,
 "nbformat_minor": 2
}
