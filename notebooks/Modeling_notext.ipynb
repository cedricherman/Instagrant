{
 "cells": [
  {
   "cell_type": "code",
   "execution_count": 4,
   "metadata": {},
   "outputs": [],
   "source": [
    "from pymongo import MongoClient\n",
    "import os\n",
    "import sys\n",
    "import pandas as pd\n",
    "import numpy as np\n",
    "from utils import utilsvectorizer as uv\n",
    "from sklearn.feature_extraction.text import TfidfVectorizer\n",
    "from sklearn.decomposition import LatentDirichletAllocation\n",
    "from sklearn.linear_model import Ridge, Lasso\n",
    "from sklearn.model_selection import GridSearchCV, train_test_split\n",
    "from sklearn.pipeline import Pipeline\n",
    "from sklearn.externals import joblib\n",
    "from sklearn.metrics import r2_score\n",
    "from sklearn.ensemble import RandomForestRegressor"
   ]
  },
  {
   "cell_type": "code",
   "execution_count": 5,
   "metadata": {},
   "outputs": [],
   "source": [
    "# Create a client connection to the MongoDb instance running on the local machine\n",
    "client = MongoClient('localhost:27017')"
   ]
  },
  {
   "cell_type": "code",
   "execution_count": 6,
   "metadata": {},
   "outputs": [],
   "source": [
    "# connect to database of interest\n",
    "db = client.awards_tmp"
   ]
  },
  {
   "cell_type": "code",
   "execution_count": 18,
   "metadata": {},
   "outputs": [],
   "source": [
    "# cursor_tmp is a generator\n",
    "cursor_tmp = db.awards_tmp.find({}, {'Amount' : 1,\n",
    "                                     'amount_corrected' : 1,\n",
    "                                     'title' : 1,\n",
    "                                     'Abstract' : 1,\n",
    "                                     'Agency' : 1,\n",
    "                                     'Awards Year' : 1,\n",
    "                                     'Phase':1,\n",
    "                                     'Branch' : 1,\n",
    "                                     'company name' : 1,\n",
    "                                     'Solicitation Topic Code': 1,\n",
    "                                     'HUBZone Owned' : 1,\n",
    "                                     'Woman Owned' : 1,\n",
    "                                     'Business Contact.Title' : 1,\n",
    "                                     'Research Institution': 1,\n",
    "                                     'Principal Investigator.Title' : 1,\n",
    "                                     '_id': False} )\n",
    "# need a new cursor (generator) after you used it\n",
    "df = pd.DataFrame(list(cursor_tmp))"
   ]
  },
  {
   "cell_type": "code",
   "execution_count": 19,
   "metadata": {},
   "outputs": [],
   "source": [
    "# convert Awards year to datetime object\n",
    "df['Awards Year'] = pd.to_datetime(df['Awards Year'])"
   ]
  },
  {
   "cell_type": "code",
   "execution_count": 20,
   "metadata": {},
   "outputs": [
    {
     "name": "stdout",
     "output_type": "stream",
     "text": [
      "<class 'pandas.core.frame.DataFrame'>\n",
      "RangeIndex: 167412 entries, 0 to 167411\n",
      "Data columns (total 14 columns):\n",
      "Abstract                   167412 non-null object\n",
      "Agency                     167405 non-null object\n",
      "Amount                     167412 non-null float64\n",
      "Awards Year                167412 non-null datetime64[ns]\n",
      "Branch                     82443 non-null object\n",
      "Business Contact           167412 non-null object\n",
      "HUBZone Owned              167412 non-null object\n",
      "Phase                      167412 non-null object\n",
      "Principal Investigator     167412 non-null object\n",
      "Research Institution       167412 non-null object\n",
      "Solicitation Topic Code    167412 non-null object\n",
      "Woman Owned                167412 non-null object\n",
      "company name               167412 non-null object\n",
      "title                      167412 non-null object\n",
      "dtypes: datetime64[ns](1), float64(1), object(12)\n",
      "memory usage: 17.9+ MB\n"
     ]
    }
   ],
   "source": [
    "df.info()"
   ]
  },
  {
   "cell_type": "code",
   "execution_count": null,
   "metadata": {},
   "outputs": [],
   "source": [
    "# uncover nested dict\n",
    "df['Principal Investigator'] = df['Principal Investigator'].apply(lambda x: x.get('Title', np.nan) )"
   ]
  },
  {
   "cell_type": "code",
   "execution_count": 33,
   "metadata": {},
   "outputs": [],
   "source": [
    "df['Business Contact'] = df['Business Contact'].apply(lambda x: x.get('Title', np.nan) )"
   ]
  },
  {
   "cell_type": "code",
   "execution_count": null,
   "metadata": {},
   "outputs": [],
   "source": []
  },
  {
   "cell_type": "code",
   "execution_count": 36,
   "metadata": {},
   "outputs": [
    {
     "data": {
      "text/plain": [
       "N              160797\n",
       "Y                5584\n",
       "Unavailable      1031\n",
       "Name: HUBZone Owned, dtype: int64"
      ]
     },
     "execution_count": 36,
     "metadata": {},
     "output_type": "execute_result"
    }
   ],
   "source": [
    "df['HUBZone Owned'].value_counts()"
   ]
  },
  {
   "cell_type": "code",
   "execution_count": 37,
   "metadata": {},
   "outputs": [],
   "source": [
    "df.loc[ df['HUBZone Owned'] == 'Unavailable'  , 'HUBZone Owned'] = np.nan\n",
    "df.loc[ df['HUBZone Owned'] == 'N'  , 'HUBZone Owned'] = 0\n",
    "df.loc[ df['HUBZone Owned'] == 'Y'  , 'HUBZone Owned'] = 1"
   ]
  },
  {
   "cell_type": "code",
   "execution_count": null,
   "metadata": {},
   "outputs": [],
   "source": []
  },
  {
   "cell_type": "code",
   "execution_count": 39,
   "metadata": {},
   "outputs": [
    {
     "data": {
      "text/plain": [
       "14480"
      ]
     },
     "execution_count": 39,
     "metadata": {},
     "output_type": "execute_result"
    }
   ],
   "source": [
    "df['Solicitation Topic Code'].value_counts().count()"
   ]
  },
  {
   "cell_type": "code",
   "execution_count": 40,
   "metadata": {},
   "outputs": [],
   "source": [
    "crit = df['Solicitation Topic Code'] == 'N/A'\n",
    "df.loc[ crit  , 'Solicitation Topic Code'] = 0\n",
    "df.loc[ ~crit  , 'Solicitation Topic Code'] = 1"
   ]
  },
  {
   "cell_type": "code",
   "execution_count": null,
   "metadata": {},
   "outputs": [],
   "source": []
  },
  {
   "cell_type": "code",
   "execution_count": null,
   "metadata": {},
   "outputs": [],
   "source": []
  },
  {
   "cell_type": "code",
   "execution_count": null,
   "metadata": {},
   "outputs": [],
   "source": []
  },
  {
   "cell_type": "code",
   "execution_count": null,
   "metadata": {},
   "outputs": [],
   "source": []
  },
  {
   "cell_type": "code",
   "execution_count": null,
   "metadata": {},
   "outputs": [],
   "source": []
  }
 ],
 "metadata": {
  "kernelspec": {
   "display_name": "Python [conda env:insight]",
   "language": "python",
   "name": "conda-env-insight-py"
  },
  "language_info": {
   "codemirror_mode": {
    "name": "ipython",
    "version": 3
   },
   "file_extension": ".py",
   "mimetype": "text/x-python",
   "name": "python",
   "nbconvert_exporter": "python",
   "pygments_lexer": "ipython3",
   "version": "3.6.5"
  }
 },
 "nbformat": 4,
 "nbformat_minor": 2
}
